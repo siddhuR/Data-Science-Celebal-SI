{
 "cells": [
  {
   "cell_type": "code",
   "execution_count": 1,
   "id": "8a0c9374",
   "metadata": {},
   "outputs": [
    {
     "data": {
      "text/plain": [
       "'E:\\\\Study\\\\LPU\\\\B.TECH\\\\Summer Internship\\\\Celebal\\\\Python\\\\PyCodes\\\\Untitled Folder'"
      ]
     },
     "execution_count": 1,
     "metadata": {},
     "output_type": "execute_result"
    }
   ],
   "source": [
    "pwd"
   ]
  },
  {
   "cell_type": "markdown",
   "id": "d60950d6",
   "metadata": {},
   "source": [
    "# Pandas, Numpy and data frames"
   ]
  },
  {
   "cell_type": "markdown",
   "id": "611ceff1",
   "metadata": {},
   "source": [
    "#Filteration of the DATA"
   ]
  },
  {
   "cell_type": "code",
   "execution_count": 59,
   "id": "413e740b",
   "metadata": {},
   "outputs": [],
   "source": [
    "import pandas as pd"
   ]
  },
  {
   "cell_type": "code",
   "execution_count": 60,
   "id": "19fa23f4",
   "metadata": {},
   "outputs": [
    {
     "name": "stdout",
     "output_type": "stream",
     "text": [
      "Filtered Data\n",
      "\n",
      "     Name  Age Gender  Salary\n",
      "1    Bob   32   Male   60000\n",
      "3  David   35   Male   70000\n"
     ]
    }
   ],
   "source": [
    "#sample dataset\n",
    "data = {\n",
    "    'Name': ['Alice', 'Bob', 'Charlie', 'David', 'Eve', 'AJ'],\n",
    "    'Age': [25, 32, 28, 35, 30, 23],\n",
    "    'Gender': ['Female', 'Male', 'Male', 'Male', 'Female', 'Male'],\n",
    "    'Salary': [50000, 60000, 55000, 70000, 65000, 10000000]\n",
    "}\n",
    "\n",
    "df = pd.DataFrame(data)\n",
    "\n",
    "# Filter the data for individuals with age greater than 30\n",
    "filtered_data = df[df['Age'] > 30]\n",
    "print(\"Filtered Data\\n\\n\",filtered_data)"
   ]
  },
  {
   "cell_type": "markdown",
   "id": "262c92a1",
   "metadata": {},
   "source": [
    "Sorting the Data"
   ]
  },
  {
   "cell_type": "code",
   "execution_count": 61,
   "id": "83f7f688",
   "metadata": {},
   "outputs": [
    {
     "name": "stdout",
     "output_type": "stream",
     "text": [
      "sorted data\n",
      "\n",
      "      Name  Age Gender  Salary\n",
      "0    Shiv   26   Male   50000\n",
      "2   Abhay   28   Male   55000\n",
      "4    Amit   30   Male   65000\n",
      "1  Aniket   32   Male   60000\n",
      "3   Sagar   35   Male   70000\n"
     ]
    }
   ],
   "source": [
    "#sorting data\n",
    "\n",
    "import pandas as pd\n",
    "\n",
    "#creating a sample dataset\n",
    "data = {\n",
    "    'Name': ['Shiv', 'Aniket', 'Abhay', 'Sagar', 'Amit'],\n",
    "    'Age': [26, 32, 28, 35, 30],\n",
    "    'Gender': ['Male', 'Male', 'Male', 'Male', 'Male'],\n",
    "    'Salary': [50000, 60000, 55000, 70000, 65000]\n",
    "}\n",
    "\n",
    "df = pd.DataFrame(data)\n",
    "#sort the data by age in ascending order\n",
    "sorted_data = df.sort_values(by='Age')\n",
    "print(\"sorted data\\n\\n\", sorted_data)"
   ]
  },
  {
   "cell_type": "code",
   "execution_count": 62,
   "id": "955ca042",
   "metadata": {},
   "outputs": [
    {
     "name": "stdout",
     "output_type": "stream",
     "text": [
      "Average salary: 60000.0\n",
      "Sum of Salary: 300000\n",
      "        Salary   Age\n",
      "sum   300000.0   NaN\n",
      "mean       NaN  30.0\n",
      "max        NaN  35.0\n"
     ]
    }
   ],
   "source": [
    "# Aggregating Data\n",
    "\n",
    "import pandas as pd\n",
    "# Create a sample dataset\n",
    "data = {\n",
    "    'Name': ['Shiv', 'Aniket', 'Abhay', 'Sagar', 'Amit'],\n",
    "    'Age': [25, 32, 28, 35, 30],\n",
    "    'Gender': ['Male', 'Male', 'Male', 'Male', 'Male'],\n",
    "    'Salary': [50000, 60000, 55000, 70000, 65000]\n",
    "}\n",
    "\n",
    "df = pd.DataFrame(data)\n",
    "#Calculate the average salary\n",
    "average_salary = df['Salary'].mean()\n",
    "print(\"Average salary:\", average_salary)\n",
    "\n",
    "total_salary = df['Salary'].sum()\n",
    "print(\"Sum of Salary:\", total_salary)\n",
    "\n",
    "# pandas also provedes the agg() function, which allows you to apply multiple\n",
    "# aggregation functions simultaneously.\n",
    "# Here's an example that calculates the sum, mean, and maximum age:\n",
    "\n",
    "aggregated_data = df.agg({'Salary': 'sum', 'Age': ['mean', 'max']})\n",
    "print(aggregated_data)\n"
   ]
  },
  {
   "cell_type": "code",
   "execution_count": 63,
   "id": "5bbe3397",
   "metadata": {},
   "outputs": [
    {
     "name": "stdout",
     "output_type": "stream",
     "text": [
      "Merged Data (Inner Join): \n",
      "    ID    Name  Age  Salary Department\n",
      "0   1    Shiv   25   50000         HR\n",
      "1   2  Aniket   32   60000         IT\n",
      "2   3   Abhay   28   55000  Marketing\n"
     ]
    }
   ],
   "source": [
    "# Inner Join\n",
    "\n",
    "import pandas as pd\n",
    "\n",
    "# Creating a sample dataset\n",
    "data1 = {\n",
    "    'ID': [1, 2, 3, 4, 5],\n",
    "    'Name': ['Shiv', 'Aniket', 'Abhay', 'Sagar', 'Amit'],\n",
    "    'Age': [25, 32, 28, 35, 30],\n",
    "    #'Gender': ['Male', 'Male', 'Male', 'Male', 'Male'],\n",
    "    #'Salary': [50000, 60000, 55000, 70000, 65000]\n",
    "}\n",
    "\n",
    "data2 = {\n",
    "    'ID': [1, 2, 3, 6, 7],\n",
    "    'Salary': [50000, 60000, 55000, 70000, 65000],\n",
    "    'Department': ['HR', 'IT','Marketing', 'Sales', 'Finance']\n",
    "}\n",
    "\n",
    "df1 = pd.DataFrame(data1)\n",
    "df2 = pd.DataFrame(data2)\n",
    "\n",
    "# Perform an inner join based on 'ID'\n",
    "\n",
    "merged_data_inner = pd.merge(df1, df2, on='ID', how=\"inner\")\n",
    "print(\"Merged Data (Inner Join): \\n\", merged_data_inner)"
   ]
  },
  {
   "cell_type": "code",
   "execution_count": 64,
   "id": "5dde3e73",
   "metadata": {},
   "outputs": [
    {
     "name": "stdout",
     "output_type": "stream",
     "text": [
      "Group:  A\n",
      "   ID Category  Value\n",
      "0   1        A     10\n",
      "2   3        A     20\n",
      "4   5        A     30\n",
      "6   7        A     40\n",
      "8   9        A     50\n",
      "\n",
      "Group:  B\n",
      "   ID Category  Value\n",
      "1   2        B     15\n",
      "3   4        B     25\n",
      "5   6        B     35\n",
      "7   8        B     45\n",
      "9  10        B     55\n",
      "\n"
     ]
    }
   ],
   "source": [
    "#Spliting and Merging\n",
    "\n",
    "import pandas as pd\n",
    "\n",
    "# Create a sample dataset\n",
    "\n",
    "data = {\n",
    "    'ID': [1, 2, 3, 4, 5, 6, 7, 8, 9, 10],\n",
    "    'Category': ['A', 'B', 'A', 'B', 'A', 'B', 'A', 'B', 'A', 'B'],\n",
    "    'Value': [10, 15, 20, 25, 30, 35, 40, 45, 50, 55]\n",
    "}\n",
    "\n",
    "df = pd.DataFrame(data)\n",
    "# Split data based on Category\n",
    "\n",
    "split_data = df.groupby('Category')\n",
    "\n",
    "# Print the groups\n",
    "for group_name, group_data in split_data:\n",
    "    print(\"Group: \", group_name)\n",
    "    print(group_data)\n",
    "    print()"
   ]
  },
  {
   "cell_type": "code",
   "execution_count": 65,
   "id": "45024abe",
   "metadata": {},
   "outputs": [
    {
     "name": "stdout",
     "output_type": "stream",
     "text": [
      "Renamed DataFrame:\n",
      "   Full Name  Age Gender  Annual Salary\n",
      "0      Shiv   25   Male          50000\n",
      "1    Aniket   32   Male          60000\n",
      "2     Abhay   28   Male          55000\n",
      "3     Sagar   35   Male          70000\n",
      "4      Amit   30   Male          65000\n",
      "Converted DataFrame:\n",
      "   Full Name  Age Gender  Salary\n",
      "0      Shiv   25   Male   50000\n",
      "1    Aniket   32   Male   60000\n",
      "2     Abhay   28   Male   55000\n",
      "3     Sagar   35   Male   70000\n",
      "4      Amit   30   Male   65000\n",
      "DataFrame with New Variable: \n",
      "   Full Name  Age Gender  Salary  Salary per Month\n",
      "0      Shiv   25   Male   50000       4166.666667\n",
      "1    Aniket   32   Male   60000       5000.000000\n",
      "2     Abhay   28   Male   55000       4583.333333\n",
      "3     Sagar   35   Male   70000       5833.333333\n",
      "4      Amit   30   Male   65000       5416.666667\n",
      "\n",
      "DataFrame with Applied Operation: \n",
      "   Full Name  Age Gender  Salary  Salary per Month  Age Squared\n",
      "0      Shiv   25   Male   50000       4166.666667          625\n",
      "1    Aniket   32   Male   60000       5000.000000         1024\n",
      "2     Abhay   28   Male   55000       4583.333333          784\n",
      "3     Sagar   35   Male   70000       5833.333333         1225\n",
      "4      Amit   30   Male   65000       5416.666667          900\n"
     ]
    }
   ],
   "source": [
    "# Aggregating Data\n",
    "\n",
    "import pandas as pd\n",
    "# Create a sample dataset\n",
    "data = {\n",
    "    'Name': ['Shiv', 'Aniket', 'Abhay', 'Sagar', 'Amit'],\n",
    "    'Age': [25, 32, 28, 35, 30],\n",
    "    'Gender': ['Male', 'Male', 'Male', 'Male', 'Male'],\n",
    "    'Salary': [50000, 60000, 55000, 70000, 65000]\n",
    "}\n",
    "\n",
    "df = pd.DataFrame(data)\n",
    "# Example 1: Renaming columns\n",
    "df_renamed = df.rename(columns={'Name': 'Full Name', 'Salary': 'Annual Salary'})\n",
    "print(\"Renamed DataFrame:\\n\", df_renamed)\n",
    "\n",
    "# Example 2: Converted columns\n",
    "df.rename(columns={'Name': 'Full Name', 'Salary': 'Salary'}, inplace=True)\n",
    "print(\"Converted DataFrame:\\n\", df)\n",
    "\n",
    "#Example 3: Creating a new variable\n",
    "df['Salary per Month'] = df['Salary'] / 12\n",
    "print(\"DataFrame with New Variable: \\n\", df)\n",
    "print()\n",
    "\n",
    "# Example 4: Applying mathematical operations\n",
    "df['Age Squared'] = df['Age'].astype(int) ** 2\n",
    "print(\"DataFrame with Applied Operation: \\n\", df)\n",
    "\n",
    "\n",
    "\n",
    "\n",
    "\n"
   ]
  },
  {
   "cell_type": "code",
   "execution_count": 66,
   "id": "019a8c0e",
   "metadata": {},
   "outputs": [
    {
     "name": "stdout",
     "output_type": "stream",
     "text": [
      "Pivoted Data:\n",
      " Year      2019    2020    2021\n",
      "Name                          \n",
      "Abhay      NaN  1200.0     NaN\n",
      "Amit       NaN     NaN  1300.0\n",
      "Aniket  1500.0     NaN     NaN\n",
      "Sagar      NaN  1800.0     NaN\n",
      "Shiv    1000.0     NaN     NaN\n"
     ]
    }
   ],
   "source": [
    "#Pivoting/Reshaping\n",
    "import pandas as pd\n",
    "\n",
    "# Create a sample dataset\n",
    "\n",
    "data = {\n",
    "    'Name': ['Shiv', 'Aniket', 'Abhay', 'Sagar', 'Amit'],\n",
    "    'Year': [2019, 2019, 2020, 2020, 2021],\n",
    "    'Sales': [1000, 1500, 1200, 1800, 1300]\n",
    "}\n",
    "\n",
    "df = pd.DataFrame(data)\n",
    "\n",
    "# Pivot the data\n",
    "# use of pivot: Pivot is used for transforming data from a Long format to a wide format.\n",
    "# It reshapes the data by converting unique values from one column into multiple columns,\n",
    "# making it easier to analyze and compare data across different categories.\n",
    "\n",
    "pivot_data = df.pivot(index='Name', columns='Year', values='Sales')\n",
    "print(\"Pivoted Data:\\n\", pivot_data)\n",
    "\n"
   ]
  },
  {
   "cell_type": "code",
   "execution_count": 67,
   "id": "65353460",
   "metadata": {},
   "outputs": [
    {
     "name": "stdout",
     "output_type": "stream",
     "text": [
      "Cleaned DataFrame:\n",
      "     Name  Age  Gender   Salary\n",
      "0  Alice   25       0  50000.0\n",
      "1    Bob   32       1  60000.0\n",
      "2  Alice   32       1  60000.0\n"
     ]
    }
   ],
   "source": [
    "# Cleaning data\n",
    "\n",
    "import pandas as pd\n",
    "import numpy as np\n",
    "\n",
    "# Create a sample dataset with missing values and duplicates\n",
    "data = {\n",
    "    'Name': ['Alice', 'Bob', 'Charlie', np.nan, 'Eve', 'Alice'],\n",
    "    'Age': [25, 32, np.nan, 35, 30, 32],\n",
    "    'Gender': ['Female', 'Male', 'Male', 'Female', np.nan, 'Male'],\n",
    "    'Salary': [50000, 60000, 55000, np.nan, 65000, 60000]\n",
    "}\n",
    "\n",
    "df = pd.DataFrame(data)\n",
    "\n",
    "# Handling missing values\n",
    "df.dropna(inplace=True)  # Remove rows with missing values\n",
    "df.reset_index(drop=True, inplace=True)  # Reset the index\n",
    "\n",
    "# Handling duplicates\n",
    "df.drop_duplicates(inplace=True)  # Remove duplicate rows\n",
    "df.reset_index(drop=True, inplace=True)  # Reset the index\n",
    "\n",
    "# Handling inconsistent data\n",
    "df['Name'] = df['Name'].str.title()  # Capitalize the first letter of names\n",
    "\n",
    "# Handling outliers (example using z-scores)\n",
    "z_scores = (df['Age'] - df['Age'].mean()) / df['Age'].std()\n",
    "df = df[(z_scores < 3)]  # Remove rows with z-scores beyond 3\n",
    "\n",
    "# Data type conversion\n",
    "df['Age'] = df['Age'].astype(int)  # Convert Age column to integer\n",
    "\n",
    "# Handling categorical data\n",
    "df['Gender'] = df['Gender'].map({'Female': 0, 'Male': 1})  # Label encoding\n",
    "print(\"Cleaned DataFrame:\\n\", df)\n"
   ]
  },
  {
   "cell_type": "code",
   "execution_count": null,
   "id": "9e1252a8",
   "metadata": {},
   "outputs": [],
   "source": []
  },
  {
   "cell_type": "markdown",
   "id": "25d1d9f1",
   "metadata": {},
   "source": [
    "# Pandas Library"
   ]
  },
  {
   "cell_type": "code",
   "execution_count": 68,
   "id": "133b7a6a",
   "metadata": {},
   "outputs": [
    {
     "name": "stdout",
     "output_type": "stream",
     "text": [
      "Requirement already satisfied: pandas in c:\\python 3.11\\lib\\site-packages (2.0.0)\n",
      "Requirement already satisfied: python-dateutil>=2.8.2 in c:\\python 3.11\\lib\\site-packages (from pandas) (2.8.2)\n",
      "Requirement already satisfied: pytz>=2020.1 in c:\\python 3.11\\lib\\site-packages (from pandas) (2023.3)\n",
      "Requirement already satisfied: tzdata>=2022.1 in c:\\python 3.11\\lib\\site-packages (from pandas) (2023.3)\n",
      "Requirement already satisfied: numpy>=1.21.0 in c:\\python 3.11\\lib\\site-packages (from pandas) (1.24.2)\n",
      "Requirement already satisfied: six>=1.5 in c:\\python 3.11\\lib\\site-packages (from python-dateutil>=2.8.2->pandas) (1.16.0)\n",
      "Note: you may need to restart the kernel to use updated packages.\n"
     ]
    }
   ],
   "source": [
    "# For Instalation of pandas Library\n",
    "\n",
    "%pip install pandas"
   ]
  },
  {
   "cell_type": "code",
   "execution_count": 70,
   "id": "8294b7d3",
   "metadata": {},
   "outputs": [],
   "source": [
    "# For Importing a Pandas Library\n",
    "import pandas as pd"
   ]
  },
  {
   "cell_type": "code",
   "execution_count": 71,
   "id": "d96ea46b",
   "metadata": {},
   "outputs": [],
   "source": [
    "#Creating a sample dataset\n",
    "data = {\n",
    "    'Name': ['Alice', 'Bob', 'Charlie', 'David', 'Eve', 'AJ'],\n",
    "    'Age': [25, 32, 28, 35, 30, 23],\n",
    "    'Gender': ['Female', 'Male', 'Male', 'Male', 'Female', 'Male'],\n",
    "    'Salary': [50000, 60000, 55000, 70000, 65000, 10000000]\n",
    "}\n",
    "\n",
    "df = pd.DataFrame(data)"
   ]
  },
  {
   "cell_type": "code",
   "execution_count": 72,
   "id": "e989e7db",
   "metadata": {},
   "outputs": [],
   "source": [
    "df.to_csv('data.csv', index=False)"
   ]
  },
  {
   "cell_type": "code",
   "execution_count": 73,
   "id": "08ce7f82",
   "metadata": {},
   "outputs": [],
   "source": [
    "# Reading data from a CSV file\n",
    "df = pd.read_csv('data.csv')"
   ]
  },
  {
   "cell_type": "code",
   "execution_count": 74,
   "id": "0829b3c6",
   "metadata": {},
   "outputs": [
    {
     "name": "stdout",
     "output_type": "stream",
     "text": [
      "<class 'pandas.core.frame.DataFrame'>\n",
      "RangeIndex: 6 entries, 0 to 5\n",
      "Data columns (total 4 columns):\n",
      " #   Column  Non-Null Count  Dtype \n",
      "---  ------  --------------  ----- \n",
      " 0   Name    6 non-null      object\n",
      " 1   Age     6 non-null      int64 \n",
      " 2   Gender  6 non-null      object\n",
      " 3   Salary  6 non-null      int64 \n",
      "dtypes: int64(2), object(2)\n",
      "memory usage: 324.0+ bytes\n"
     ]
    },
    {
     "data": {
      "text/html": [
       "<div>\n",
       "<style scoped>\n",
       "    .dataframe tbody tr th:only-of-type {\n",
       "        vertical-align: middle;\n",
       "    }\n",
       "\n",
       "    .dataframe tbody tr th {\n",
       "        vertical-align: top;\n",
       "    }\n",
       "\n",
       "    .dataframe thead th {\n",
       "        text-align: right;\n",
       "    }\n",
       "</style>\n",
       "<table border=\"1\" class=\"dataframe\">\n",
       "  <thead>\n",
       "    <tr style=\"text-align: right;\">\n",
       "      <th></th>\n",
       "      <th>Age</th>\n",
       "      <th>Salary</th>\n",
       "    </tr>\n",
       "  </thead>\n",
       "  <tbody>\n",
       "    <tr>\n",
       "      <th>0</th>\n",
       "      <td>25</td>\n",
       "      <td>50000</td>\n",
       "    </tr>\n",
       "    <tr>\n",
       "      <th>1</th>\n",
       "      <td>32</td>\n",
       "      <td>60000</td>\n",
       "    </tr>\n",
       "    <tr>\n",
       "      <th>2</th>\n",
       "      <td>28</td>\n",
       "      <td>55000</td>\n",
       "    </tr>\n",
       "    <tr>\n",
       "      <th>3</th>\n",
       "      <td>35</td>\n",
       "      <td>70000</td>\n",
       "    </tr>\n",
       "    <tr>\n",
       "      <th>4</th>\n",
       "      <td>30</td>\n",
       "      <td>65000</td>\n",
       "    </tr>\n",
       "    <tr>\n",
       "      <th>5</th>\n",
       "      <td>23</td>\n",
       "      <td>10000000</td>\n",
       "    </tr>\n",
       "  </tbody>\n",
       "</table>\n",
       "</div>"
      ],
      "text/plain": [
       "   Age    Salary\n",
       "0   25     50000\n",
       "1   32     60000\n",
       "2   28     55000\n",
       "3   35     70000\n",
       "4   30     65000\n",
       "5   23  10000000"
      ]
     },
     "execution_count": 74,
     "metadata": {},
     "output_type": "execute_result"
    }
   ],
   "source": [
    "# Basic DataFrame operations\n",
    "\n",
    "df.head()             # Display the first few rows of the DataFrame\n",
    "df.tail()             # Display last few rows of the Dataframe\n",
    "df.shape              # Get the dimensions of the DataFrame (rows, columns)\n",
    "df.info()             # Get the information about the DataFrame\n",
    "df.describe()         # Generate descriptive statistics of the DataFrame\n",
    "df.columns            # Get the column names of the DataFrame\n",
    "df['Age']             # Access a specific column\n",
    "df[['Age', 'Salary']] # Access multiple columns\n",
    "\n",
    "\n",
    "# # Displaying the first few rows of the DataFrame\n",
    "# print(df.head())\n",
    "\n",
    "# # Displaying the last few rows of the DataFrame\n",
    "# print(df.tail())\n",
    "\n",
    "# # Getting the dimensions of the DataFrame (rows, columns)\n",
    "# print(df.shape)\n",
    "\n",
    "# # Getting information about the DataFrame\n",
    "# print(df.info())\n",
    "\n",
    "# # Generating descriptive statistics of the DataFrame\n",
    "# print(df.describe())\n",
    "\n",
    "# # Getting the column names of the DataFrame\n",
    "# print(df.columns)\n",
    "\n",
    "# # Accessing a specific column\n",
    "# print(df['Age'])\n",
    "\n",
    "# # Accessing multiple columns\n",
    "# print(df[['Age', 'Salary']])\n"
   ]
  },
  {
   "cell_type": "code",
   "execution_count": 75,
   "id": "4252a2ee",
   "metadata": {},
   "outputs": [
    {
     "data": {
      "text/html": [
       "<div>\n",
       "<style scoped>\n",
       "    .dataframe tbody tr th:only-of-type {\n",
       "        vertical-align: middle;\n",
       "    }\n",
       "\n",
       "    .dataframe tbody tr th {\n",
       "        vertical-align: top;\n",
       "    }\n",
       "\n",
       "    .dataframe thead th {\n",
       "        text-align: right;\n",
       "    }\n",
       "</style>\n",
       "<table border=\"1\" class=\"dataframe\">\n",
       "  <thead>\n",
       "    <tr style=\"text-align: right;\">\n",
       "      <th></th>\n",
       "      <th>Name</th>\n",
       "      <th>Age</th>\n",
       "      <th>Gender</th>\n",
       "      <th>Salary</th>\n",
       "    </tr>\n",
       "  </thead>\n",
       "  <tbody>\n",
       "    <tr>\n",
       "      <th>1</th>\n",
       "      <td>Bob</td>\n",
       "      <td>32</td>\n",
       "      <td>Male</td>\n",
       "      <td>60000</td>\n",
       "    </tr>\n",
       "    <tr>\n",
       "      <th>2</th>\n",
       "      <td>Charlie</td>\n",
       "      <td>28</td>\n",
       "      <td>Male</td>\n",
       "      <td>55000</td>\n",
       "    </tr>\n",
       "    <tr>\n",
       "      <th>3</th>\n",
       "      <td>David</td>\n",
       "      <td>35</td>\n",
       "      <td>Male</td>\n",
       "      <td>70000</td>\n",
       "    </tr>\n",
       "  </tbody>\n",
       "</table>\n",
       "</div>"
      ],
      "text/plain": [
       "      Name  Age Gender  Salary\n",
       "1      Bob   32   Male   60000\n",
       "2  Charlie   28   Male   55000\n",
       "3    David   35   Male   70000"
      ]
     },
     "execution_count": 75,
     "metadata": {},
     "output_type": "execute_result"
    }
   ],
   "source": [
    "# Filtering and subsetting data\n",
    "df[df['Age'] > 30] # Filter rows based on a condition\n",
    "df.loc[2]          # Access a specific row by Label\n",
    "df.iloc[0]         # Access a specific row by index\n",
    "df.iloc[1:4]       # Access a range of rows"
   ]
  },
  {
   "cell_type": "code",
   "execution_count": 76,
   "id": "01a82bd0",
   "metadata": {},
   "outputs": [
    {
     "data": {
      "text/html": [
       "<div>\n",
       "<style scoped>\n",
       "    .dataframe tbody tr th:only-of-type {\n",
       "        vertical-align: middle;\n",
       "    }\n",
       "\n",
       "    .dataframe tbody tr th {\n",
       "        vertical-align: top;\n",
       "    }\n",
       "\n",
       "    .dataframe thead th {\n",
       "        text-align: right;\n",
       "    }\n",
       "</style>\n",
       "<table border=\"1\" class=\"dataframe\">\n",
       "  <thead>\n",
       "    <tr style=\"text-align: right;\">\n",
       "      <th></th>\n",
       "      <th>Name</th>\n",
       "      <th>Age</th>\n",
       "      <th>Gender</th>\n",
       "      <th>Salary</th>\n",
       "    </tr>\n",
       "  </thead>\n",
       "  <tbody>\n",
       "    <tr>\n",
       "      <th>0</th>\n",
       "      <td>Alice</td>\n",
       "      <td>25</td>\n",
       "      <td>Female</td>\n",
       "      <td>50000</td>\n",
       "    </tr>\n",
       "    <tr>\n",
       "      <th>1</th>\n",
       "      <td>Bob</td>\n",
       "      <td>32</td>\n",
       "      <td>Male</td>\n",
       "      <td>60000</td>\n",
       "    </tr>\n",
       "    <tr>\n",
       "      <th>2</th>\n",
       "      <td>Charlie</td>\n",
       "      <td>28</td>\n",
       "      <td>Male</td>\n",
       "      <td>55000</td>\n",
       "    </tr>\n",
       "    <tr>\n",
       "      <th>3</th>\n",
       "      <td>David</td>\n",
       "      <td>35</td>\n",
       "      <td>Male</td>\n",
       "      <td>70000</td>\n",
       "    </tr>\n",
       "    <tr>\n",
       "      <th>4</th>\n",
       "      <td>Eve</td>\n",
       "      <td>30</td>\n",
       "      <td>Female</td>\n",
       "      <td>65000</td>\n",
       "    </tr>\n",
       "    <tr>\n",
       "      <th>5</th>\n",
       "      <td>AJ</td>\n",
       "      <td>23</td>\n",
       "      <td>Male</td>\n",
       "      <td>10000000</td>\n",
       "    </tr>\n",
       "  </tbody>\n",
       "</table>\n",
       "</div>"
      ],
      "text/plain": [
       "      Name  Age  Gender    Salary\n",
       "0    Alice   25  Female     50000\n",
       "1      Bob   32    Male     60000\n",
       "2  Charlie   28    Male     55000\n",
       "3    David   35    Male     70000\n",
       "4      Eve   30  Female     65000\n",
       "5       AJ   23    Male  10000000"
      ]
     },
     "execution_count": 76,
     "metadata": {},
     "output_type": "execute_result"
    }
   ],
   "source": [
    "# Handling missing values\n",
    "\n",
    "df.isnull()        # Check for missing values\n",
    "df.dropna()        # Drop rows with missing values\n",
    "df.fillna(value=0)   # Fill missing values with a specific value"
   ]
  },
  {
   "cell_type": "code",
   "execution_count": 77,
   "id": "d156dfe1",
   "metadata": {},
   "outputs": [
    {
     "data": {
      "text/plain": [
       "Name     Gender\n",
       "AJ       Male      10000000.0\n",
       "Alice    Female       50000.0\n",
       "Bob      Male         60000.0\n",
       "Charlie  Male         55000.0\n",
       "David    Male         70000.0\n",
       "Eve      Female       65000.0\n",
       "Name: Salary, dtype: float64"
      ]
     },
     "execution_count": 77,
     "metadata": {},
     "output_type": "execute_result"
    }
   ],
   "source": [
    "# Data aggregation and grouping\n",
    "\n",
    "df.groupby('Gender')['Salary'].sum()   # Group by a column and calculate the sum\n",
    "df.groupby(['Name', 'Gender'])['Salary'].mean()  # Group by multiple columns and calculate the mean"
   ]
  },
  {
   "cell_type": "code",
   "execution_count": 78,
   "id": "7f4ac5bc",
   "metadata": {},
   "outputs": [
    {
     "data": {
      "text/html": [
       "<div>\n",
       "<style scoped>\n",
       "    .dataframe tbody tr th:only-of-type {\n",
       "        vertical-align: middle;\n",
       "    }\n",
       "\n",
       "    .dataframe tbody tr th {\n",
       "        vertical-align: top;\n",
       "    }\n",
       "\n",
       "    .dataframe thead th {\n",
       "        text-align: right;\n",
       "    }\n",
       "</style>\n",
       "<table border=\"1\" class=\"dataframe\">\n",
       "  <thead>\n",
       "    <tr style=\"text-align: right;\">\n",
       "      <th></th>\n",
       "      <th>Name</th>\n",
       "      <th>Age</th>\n",
       "      <th>Gender</th>\n",
       "      <th>Salary</th>\n",
       "    </tr>\n",
       "  </thead>\n",
       "  <tbody>\n",
       "    <tr>\n",
       "      <th>4</th>\n",
       "      <td>Eve</td>\n",
       "      <td>30</td>\n",
       "      <td>Female</td>\n",
       "      <td>65000</td>\n",
       "    </tr>\n",
       "    <tr>\n",
       "      <th>0</th>\n",
       "      <td>Alice</td>\n",
       "      <td>25</td>\n",
       "      <td>Female</td>\n",
       "      <td>50000</td>\n",
       "    </tr>\n",
       "    <tr>\n",
       "      <th>3</th>\n",
       "      <td>David</td>\n",
       "      <td>35</td>\n",
       "      <td>Male</td>\n",
       "      <td>70000</td>\n",
       "    </tr>\n",
       "    <tr>\n",
       "      <th>1</th>\n",
       "      <td>Bob</td>\n",
       "      <td>32</td>\n",
       "      <td>Male</td>\n",
       "      <td>60000</td>\n",
       "    </tr>\n",
       "    <tr>\n",
       "      <th>2</th>\n",
       "      <td>Charlie</td>\n",
       "      <td>28</td>\n",
       "      <td>Male</td>\n",
       "      <td>55000</td>\n",
       "    </tr>\n",
       "    <tr>\n",
       "      <th>5</th>\n",
       "      <td>AJ</td>\n",
       "      <td>23</td>\n",
       "      <td>Male</td>\n",
       "      <td>10000000</td>\n",
       "    </tr>\n",
       "  </tbody>\n",
       "</table>\n",
       "</div>"
      ],
      "text/plain": [
       "      Name  Age  Gender    Salary\n",
       "4      Eve   30  Female     65000\n",
       "0    Alice   25  Female     50000\n",
       "3    David   35    Male     70000\n",
       "1      Bob   32    Male     60000\n",
       "2  Charlie   28    Male     55000\n",
       "5       AJ   23    Male  10000000"
      ]
     },
     "execution_count": 78,
     "metadata": {},
     "output_type": "execute_result"
    }
   ],
   "source": [
    "# Sorting data\n",
    "\n",
    "df.sort_values('Gender')   # Sort Dataframe by a column\n",
    "df.sort_values(['Gender', 'Age'], ascending=[True, False])   # Sort Dataframe by multiple columns with custom"
   ]
  },
  {
   "cell_type": "code",
   "execution_count": 79,
   "id": "719b588b",
   "metadata": {},
   "outputs": [
    {
     "ename": "NameError",
     "evalue": "name 'function' is not defined",
     "output_type": "error",
     "traceback": [
      "\u001b[1;31m---------------------------------------------------------------------------\u001b[0m",
      "\u001b[1;31mNameError\u001b[0m                                 Traceback (most recent call last)",
      "Cell \u001b[1;32mIn[79], line 6\u001b[0m\n\u001b[0;32m      4\u001b[0m df\u001b[38;5;241m.\u001b[39mrename(columns\u001b[38;5;241m=\u001b[39m{\u001b[38;5;124m'\u001b[39m\u001b[38;5;124mAge\u001b[39m\u001b[38;5;124m'\u001b[39m: \u001b[38;5;124m'\u001b[39m\u001b[38;5;124mAge1\u001b[39m\u001b[38;5;124m'\u001b[39m})  \u001b[38;5;66;03m# Rename columns\u001b[39;00m\n\u001b[0;32m      5\u001b[0m df\u001b[38;5;241m.\u001b[39mreplace(\u001b[38;5;241m25\u001b[39m, \u001b[38;5;241m40\u001b[39m)  \u001b[38;5;66;03m# Replace values in the DataFrame\u001b[39;00m\n\u001b[1;32m----> 6\u001b[0m df\u001b[38;5;241m.\u001b[39mapply(\u001b[43mfunction\u001b[49m)  \u001b[38;5;66;03m# Apply a function to each element or column\u001b[39;00m\n\u001b[0;32m      7\u001b[0m df[\u001b[38;5;124m'\u001b[39m\u001b[38;5;124msquared_age\u001b[39m\u001b[38;5;124m'\u001b[39m] \u001b[38;5;241m=\u001b[39m df[\u001b[38;5;124m'\u001b[39m\u001b[38;5;124mAge\u001b[39m\u001b[38;5;124m'\u001b[39m]\u001b[38;5;241m.\u001b[39mapply(\u001b[38;5;28;01mlambda\u001b[39;00m x: x\u001b[38;5;241m*\u001b[39m\u001b[38;5;241m*\u001b[39m\u001b[38;5;241m2\u001b[39m)\n",
      "\u001b[1;31mNameError\u001b[0m: name 'function' is not defined"
     ]
    }
   ],
   "source": [
    "# Data cleaning and manipulation\n",
    "\n",
    "df.drop_duplicates()  # Remove duplicate rows\n",
    "df.rename(columns={'Age': 'Age1'})  # Rename columns\n",
    "df.replace(25, 40)  # Replace values in the DataFrame\n",
    "df.apply(function)  # Apply a function to each element or column\n",
    "df['squared_age'] = df['Age'].apply(lambda x: x**2)"
   ]
  },
  {
   "cell_type": "code",
   "execution_count": 80,
   "id": "b17b5331",
   "metadata": {},
   "outputs": [
    {
     "ename": "KeyError",
     "evalue": "\"['squared_age'] not found in axis\"",
     "output_type": "error",
     "traceback": [
      "\u001b[1;31m---------------------------------------------------------------------------\u001b[0m",
      "\u001b[1;31mKeyError\u001b[0m                                  Traceback (most recent call last)",
      "Cell \u001b[1;32mIn[80], line 3\u001b[0m\n\u001b[0;32m      1\u001b[0m \u001b[38;5;66;03m# Adding and removing columns\u001b[39;00m\n\u001b[0;32m      2\u001b[0m df[\u001b[38;5;124m'\u001b[39m\u001b[38;5;124mNewColumn\u001b[39m\u001b[38;5;124m'\u001b[39m] \u001b[38;5;241m=\u001b[39m \u001b[38;5;241m100\u001b[39m  \u001b[38;5;66;03m# Add a new column\u001b[39;00m\n\u001b[1;32m----> 3\u001b[0m \u001b[43mdf\u001b[49m\u001b[38;5;241;43m.\u001b[39;49m\u001b[43mdrop\u001b[49m\u001b[43m(\u001b[49m\u001b[43mcolumns\u001b[49m\u001b[38;5;241;43m=\u001b[39;49m\u001b[43m[\u001b[49m\u001b[38;5;124;43m'\u001b[39;49m\u001b[38;5;124;43mNewColumn\u001b[39;49m\u001b[38;5;124;43m'\u001b[39;49m\u001b[43m,\u001b[49m\u001b[43m \u001b[49m\u001b[38;5;124;43m'\u001b[39;49m\u001b[38;5;124;43msquared_age\u001b[39;49m\u001b[38;5;124;43m'\u001b[39;49m\u001b[43m]\u001b[49m\u001b[43m)\u001b[49m \u001b[38;5;66;03m# Remove columns\u001b[39;00m\n",
      "File \u001b[1;32mC:\\python 3.11\\Lib\\site-packages\\pandas\\core\\frame.py:5266\u001b[0m, in \u001b[0;36mDataFrame.drop\u001b[1;34m(self, labels, axis, index, columns, level, inplace, errors)\u001b[0m\n\u001b[0;32m   5118\u001b[0m \u001b[38;5;28;01mdef\u001b[39;00m \u001b[38;5;21mdrop\u001b[39m(\n\u001b[0;32m   5119\u001b[0m     \u001b[38;5;28mself\u001b[39m,\n\u001b[0;32m   5120\u001b[0m     labels: IndexLabel \u001b[38;5;241m=\u001b[39m \u001b[38;5;28;01mNone\u001b[39;00m,\n\u001b[1;32m   (...)\u001b[0m\n\u001b[0;32m   5127\u001b[0m     errors: IgnoreRaise \u001b[38;5;241m=\u001b[39m \u001b[38;5;124m\"\u001b[39m\u001b[38;5;124mraise\u001b[39m\u001b[38;5;124m\"\u001b[39m,\n\u001b[0;32m   5128\u001b[0m ) \u001b[38;5;241m-\u001b[39m\u001b[38;5;241m>\u001b[39m DataFrame \u001b[38;5;241m|\u001b[39m \u001b[38;5;28;01mNone\u001b[39;00m:\n\u001b[0;32m   5129\u001b[0m \u001b[38;5;250m    \u001b[39m\u001b[38;5;124;03m\"\"\"\u001b[39;00m\n\u001b[0;32m   5130\u001b[0m \u001b[38;5;124;03m    Drop specified labels from rows or columns.\u001b[39;00m\n\u001b[0;32m   5131\u001b[0m \n\u001b[1;32m   (...)\u001b[0m\n\u001b[0;32m   5264\u001b[0m \u001b[38;5;124;03m            weight  1.0     0.8\u001b[39;00m\n\u001b[0;32m   5265\u001b[0m \u001b[38;5;124;03m    \"\"\"\u001b[39;00m\n\u001b[1;32m-> 5266\u001b[0m     \u001b[38;5;28;01mreturn\u001b[39;00m \u001b[38;5;28;43msuper\u001b[39;49m\u001b[43m(\u001b[49m\u001b[43m)\u001b[49m\u001b[38;5;241;43m.\u001b[39;49m\u001b[43mdrop\u001b[49m\u001b[43m(\u001b[49m\n\u001b[0;32m   5267\u001b[0m \u001b[43m        \u001b[49m\u001b[43mlabels\u001b[49m\u001b[38;5;241;43m=\u001b[39;49m\u001b[43mlabels\u001b[49m\u001b[43m,\u001b[49m\n\u001b[0;32m   5268\u001b[0m \u001b[43m        \u001b[49m\u001b[43maxis\u001b[49m\u001b[38;5;241;43m=\u001b[39;49m\u001b[43maxis\u001b[49m\u001b[43m,\u001b[49m\n\u001b[0;32m   5269\u001b[0m \u001b[43m        \u001b[49m\u001b[43mindex\u001b[49m\u001b[38;5;241;43m=\u001b[39;49m\u001b[43mindex\u001b[49m\u001b[43m,\u001b[49m\n\u001b[0;32m   5270\u001b[0m \u001b[43m        \u001b[49m\u001b[43mcolumns\u001b[49m\u001b[38;5;241;43m=\u001b[39;49m\u001b[43mcolumns\u001b[49m\u001b[43m,\u001b[49m\n\u001b[0;32m   5271\u001b[0m \u001b[43m        \u001b[49m\u001b[43mlevel\u001b[49m\u001b[38;5;241;43m=\u001b[39;49m\u001b[43mlevel\u001b[49m\u001b[43m,\u001b[49m\n\u001b[0;32m   5272\u001b[0m \u001b[43m        \u001b[49m\u001b[43minplace\u001b[49m\u001b[38;5;241;43m=\u001b[39;49m\u001b[43minplace\u001b[49m\u001b[43m,\u001b[49m\n\u001b[0;32m   5273\u001b[0m \u001b[43m        \u001b[49m\u001b[43merrors\u001b[49m\u001b[38;5;241;43m=\u001b[39;49m\u001b[43merrors\u001b[49m\u001b[43m,\u001b[49m\n\u001b[0;32m   5274\u001b[0m \u001b[43m    \u001b[49m\u001b[43m)\u001b[49m\n",
      "File \u001b[1;32mC:\\python 3.11\\Lib\\site-packages\\pandas\\core\\generic.py:4549\u001b[0m, in \u001b[0;36mNDFrame.drop\u001b[1;34m(self, labels, axis, index, columns, level, inplace, errors)\u001b[0m\n\u001b[0;32m   4547\u001b[0m \u001b[38;5;28;01mfor\u001b[39;00m axis, labels \u001b[38;5;129;01min\u001b[39;00m axes\u001b[38;5;241m.\u001b[39mitems():\n\u001b[0;32m   4548\u001b[0m     \u001b[38;5;28;01mif\u001b[39;00m labels \u001b[38;5;129;01mis\u001b[39;00m \u001b[38;5;129;01mnot\u001b[39;00m \u001b[38;5;28;01mNone\u001b[39;00m:\n\u001b[1;32m-> 4549\u001b[0m         obj \u001b[38;5;241m=\u001b[39m \u001b[43mobj\u001b[49m\u001b[38;5;241;43m.\u001b[39;49m\u001b[43m_drop_axis\u001b[49m\u001b[43m(\u001b[49m\u001b[43mlabels\u001b[49m\u001b[43m,\u001b[49m\u001b[43m \u001b[49m\u001b[43maxis\u001b[49m\u001b[43m,\u001b[49m\u001b[43m \u001b[49m\u001b[43mlevel\u001b[49m\u001b[38;5;241;43m=\u001b[39;49m\u001b[43mlevel\u001b[49m\u001b[43m,\u001b[49m\u001b[43m \u001b[49m\u001b[43merrors\u001b[49m\u001b[38;5;241;43m=\u001b[39;49m\u001b[43merrors\u001b[49m\u001b[43m)\u001b[49m\n\u001b[0;32m   4551\u001b[0m \u001b[38;5;28;01mif\u001b[39;00m inplace:\n\u001b[0;32m   4552\u001b[0m     \u001b[38;5;28mself\u001b[39m\u001b[38;5;241m.\u001b[39m_update_inplace(obj)\n",
      "File \u001b[1;32mC:\\python 3.11\\Lib\\site-packages\\pandas\\core\\generic.py:4591\u001b[0m, in \u001b[0;36mNDFrame._drop_axis\u001b[1;34m(self, labels, axis, level, errors, only_slice)\u001b[0m\n\u001b[0;32m   4589\u001b[0m         new_axis \u001b[38;5;241m=\u001b[39m axis\u001b[38;5;241m.\u001b[39mdrop(labels, level\u001b[38;5;241m=\u001b[39mlevel, errors\u001b[38;5;241m=\u001b[39merrors)\n\u001b[0;32m   4590\u001b[0m     \u001b[38;5;28;01melse\u001b[39;00m:\n\u001b[1;32m-> 4591\u001b[0m         new_axis \u001b[38;5;241m=\u001b[39m \u001b[43maxis\u001b[49m\u001b[38;5;241;43m.\u001b[39;49m\u001b[43mdrop\u001b[49m\u001b[43m(\u001b[49m\u001b[43mlabels\u001b[49m\u001b[43m,\u001b[49m\u001b[43m \u001b[49m\u001b[43merrors\u001b[49m\u001b[38;5;241;43m=\u001b[39;49m\u001b[43merrors\u001b[49m\u001b[43m)\u001b[49m\n\u001b[0;32m   4592\u001b[0m     indexer \u001b[38;5;241m=\u001b[39m axis\u001b[38;5;241m.\u001b[39mget_indexer(new_axis)\n\u001b[0;32m   4594\u001b[0m \u001b[38;5;66;03m# Case for non-unique axis\u001b[39;00m\n\u001b[0;32m   4595\u001b[0m \u001b[38;5;28;01melse\u001b[39;00m:\n",
      "File \u001b[1;32mC:\\python 3.11\\Lib\\site-packages\\pandas\\core\\indexes\\base.py:6696\u001b[0m, in \u001b[0;36mIndex.drop\u001b[1;34m(self, labels, errors)\u001b[0m\n\u001b[0;32m   6694\u001b[0m \u001b[38;5;28;01mif\u001b[39;00m mask\u001b[38;5;241m.\u001b[39many():\n\u001b[0;32m   6695\u001b[0m     \u001b[38;5;28;01mif\u001b[39;00m errors \u001b[38;5;241m!=\u001b[39m \u001b[38;5;124m\"\u001b[39m\u001b[38;5;124mignore\u001b[39m\u001b[38;5;124m\"\u001b[39m:\n\u001b[1;32m-> 6696\u001b[0m         \u001b[38;5;28;01mraise\u001b[39;00m \u001b[38;5;167;01mKeyError\u001b[39;00m(\u001b[38;5;124mf\u001b[39m\u001b[38;5;124m\"\u001b[39m\u001b[38;5;132;01m{\u001b[39;00m\u001b[38;5;28mlist\u001b[39m(labels[mask])\u001b[38;5;132;01m}\u001b[39;00m\u001b[38;5;124m not found in axis\u001b[39m\u001b[38;5;124m\"\u001b[39m)\n\u001b[0;32m   6697\u001b[0m     indexer \u001b[38;5;241m=\u001b[39m indexer[\u001b[38;5;241m~\u001b[39mmask]\n\u001b[0;32m   6698\u001b[0m \u001b[38;5;28;01mreturn\u001b[39;00m \u001b[38;5;28mself\u001b[39m\u001b[38;5;241m.\u001b[39mdelete(indexer)\n",
      "\u001b[1;31mKeyError\u001b[0m: \"['squared_age'] not found in axis\""
     ]
    }
   ],
   "source": [
    "# Adding and removing columns\n",
    "df['NewColumn'] = 100  # Add a new column\n",
    "df.drop(columns=['NewColumn', 'squared_age']) # Remove columns"
   ]
  },
  {
   "cell_type": "code",
   "execution_count": 81,
   "id": "3ea6c62e",
   "metadata": {},
   "outputs": [
    {
     "ename": "KeyError",
     "evalue": "'KeyColumn'",
     "output_type": "error",
     "traceback": [
      "\u001b[1;31m---------------------------------------------------------------------------\u001b[0m",
      "\u001b[1;31mKeyError\u001b[0m                                  Traceback (most recent call last)",
      "\u001b[1;32m~\\AppData\\Local\\Temp\\ipykernel_20880\\3290737983.py\u001b[0m in \u001b[0;36m?\u001b[1;34m()\u001b[0m\n\u001b[0;32m      1\u001b[0m \u001b[1;31m# Merging and joining DataFrames\u001b[0m\u001b[1;33m\u001b[0m\u001b[1;33m\u001b[0m\u001b[0m\n\u001b[1;32m----> 2\u001b[1;33m \u001b[0mmerged_df\u001b[0m \u001b[1;33m=\u001b[0m \u001b[0mpd\u001b[0m\u001b[1;33m.\u001b[0m\u001b[0mmerge\u001b[0m\u001b[1;33m(\u001b[0m\u001b[0mdf1\u001b[0m\u001b[1;33m,\u001b[0m \u001b[0mdf2\u001b[0m\u001b[1;33m,\u001b[0m \u001b[0mon\u001b[0m\u001b[1;33m=\u001b[0m\u001b[1;34m'KeyColumn'\u001b[0m\u001b[1;33m)\u001b[0m \u001b[1;31m# Merge DataFrames based on a common column\u001b[0m\u001b[1;33m\u001b[0m\u001b[1;33m\u001b[0m\u001b[0m\n\u001b[0m\u001b[0;32m      3\u001b[0m \u001b[0mjoined_df\u001b[0m \u001b[1;33m=\u001b[0m \u001b[0mdf1\u001b[0m\u001b[1;33m.\u001b[0m\u001b[0mjoin\u001b[0m\u001b[1;33m(\u001b[0m\u001b[0mdf2\u001b[0m\u001b[1;33m,\u001b[0m \u001b[0mon\u001b[0m\u001b[1;33m=\u001b[0m\u001b[1;34m'KeyColumn'\u001b[0m\u001b[1;33m)\u001b[0m \u001b[1;31m# Join DataFrames based on an index or column\u001b[0m\u001b[1;33m\u001b[0m\u001b[1;33m\u001b[0m\u001b[0m\n",
      "\u001b[1;32mC:\\python 3.11\\Lib\\site-packages\\pandas\\core\\reshape\\merge.py\u001b[0m in \u001b[0;36m?\u001b[1;34m(left, right, how, on, left_on, right_on, left_index, right_index, sort, suffixes, copy, indicator, validate)\u001b[0m\n\u001b[0;32m    138\u001b[0m     \u001b[0mcopy\u001b[0m\u001b[1;33m:\u001b[0m \u001b[0mbool\u001b[0m \u001b[1;33m|\u001b[0m \u001b[1;32mNone\u001b[0m \u001b[1;33m=\u001b[0m \u001b[1;32mNone\u001b[0m\u001b[1;33m,\u001b[0m\u001b[1;33m\u001b[0m\u001b[1;33m\u001b[0m\u001b[0m\n\u001b[0;32m    139\u001b[0m     \u001b[0mindicator\u001b[0m\u001b[1;33m:\u001b[0m \u001b[0mstr\u001b[0m \u001b[1;33m|\u001b[0m \u001b[0mbool\u001b[0m \u001b[1;33m=\u001b[0m \u001b[1;32mFalse\u001b[0m\u001b[1;33m,\u001b[0m\u001b[1;33m\u001b[0m\u001b[1;33m\u001b[0m\u001b[0m\n\u001b[0;32m    140\u001b[0m     \u001b[0mvalidate\u001b[0m\u001b[1;33m:\u001b[0m \u001b[0mstr\u001b[0m \u001b[1;33m|\u001b[0m \u001b[1;32mNone\u001b[0m \u001b[1;33m=\u001b[0m \u001b[1;32mNone\u001b[0m\u001b[1;33m,\u001b[0m\u001b[1;33m\u001b[0m\u001b[1;33m\u001b[0m\u001b[0m\n\u001b[0;32m    141\u001b[0m ) -> DataFrame:\n\u001b[1;32m--> 142\u001b[1;33m     op = _MergeOperation(\n\u001b[0m\u001b[0;32m    143\u001b[0m         \u001b[0mleft\u001b[0m\u001b[1;33m,\u001b[0m\u001b[1;33m\u001b[0m\u001b[1;33m\u001b[0m\u001b[0m\n\u001b[0;32m    144\u001b[0m         \u001b[0mright\u001b[0m\u001b[1;33m,\u001b[0m\u001b[1;33m\u001b[0m\u001b[1;33m\u001b[0m\u001b[0m\n\u001b[0;32m    145\u001b[0m         \u001b[0mhow\u001b[0m\u001b[1;33m=\u001b[0m\u001b[0mhow\u001b[0m\u001b[1;33m,\u001b[0m\u001b[1;33m\u001b[0m\u001b[1;33m\u001b[0m\u001b[0m\n",
      "\u001b[1;32mC:\\python 3.11\\Lib\\site-packages\\pandas\\core\\reshape\\merge.py\u001b[0m in \u001b[0;36m?\u001b[1;34m(self, left, right, how, on, left_on, right_on, axis, left_index, right_index, sort, suffixes, indicator, validate)\u001b[0m\n\u001b[0;32m    727\u001b[0m         (\n\u001b[0;32m    728\u001b[0m             \u001b[0mself\u001b[0m\u001b[1;33m.\u001b[0m\u001b[0mleft_join_keys\u001b[0m\u001b[1;33m,\u001b[0m\u001b[1;33m\u001b[0m\u001b[1;33m\u001b[0m\u001b[0m\n\u001b[0;32m    729\u001b[0m             \u001b[0mself\u001b[0m\u001b[1;33m.\u001b[0m\u001b[0mright_join_keys\u001b[0m\u001b[1;33m,\u001b[0m\u001b[1;33m\u001b[0m\u001b[1;33m\u001b[0m\u001b[0m\n\u001b[0;32m    730\u001b[0m             \u001b[0mself\u001b[0m\u001b[1;33m.\u001b[0m\u001b[0mjoin_names\u001b[0m\u001b[1;33m,\u001b[0m\u001b[1;33m\u001b[0m\u001b[1;33m\u001b[0m\u001b[0m\n\u001b[1;32m--> 731\u001b[1;33m         ) = self._get_merge_keys()\n\u001b[0m\u001b[0;32m    732\u001b[0m \u001b[1;33m\u001b[0m\u001b[0m\n\u001b[0;32m    733\u001b[0m         \u001b[1;31m# validate the merge keys dtypes. We may need to coerce\u001b[0m\u001b[1;33m\u001b[0m\u001b[1;33m\u001b[0m\u001b[0m\n\u001b[0;32m    734\u001b[0m         \u001b[1;31m# to avoid incompatible dtypes\u001b[0m\u001b[1;33m\u001b[0m\u001b[1;33m\u001b[0m\u001b[0m\n",
      "\u001b[1;32mC:\\python 3.11\\Lib\\site-packages\\pandas\\core\\reshape\\merge.py\u001b[0m in \u001b[0;36m?\u001b[1;34m(self)\u001b[0m\n\u001b[0;32m   1185\u001b[0m                         \u001b[1;31m# Then we're either Hashable or a wrong-length arraylike,\u001b[0m\u001b[1;33m\u001b[0m\u001b[1;33m\u001b[0m\u001b[0m\n\u001b[0;32m   1186\u001b[0m                         \u001b[1;31m#  the latter of which will raise\u001b[0m\u001b[1;33m\u001b[0m\u001b[1;33m\u001b[0m\u001b[0m\n\u001b[0;32m   1187\u001b[0m                         \u001b[0mrk\u001b[0m \u001b[1;33m=\u001b[0m \u001b[0mcast\u001b[0m\u001b[1;33m(\u001b[0m\u001b[0mHashable\u001b[0m\u001b[1;33m,\u001b[0m \u001b[0mrk\u001b[0m\u001b[1;33m)\u001b[0m\u001b[1;33m\u001b[0m\u001b[1;33m\u001b[0m\u001b[0m\n\u001b[0;32m   1188\u001b[0m                         \u001b[1;32mif\u001b[0m \u001b[0mrk\u001b[0m \u001b[1;32mis\u001b[0m \u001b[1;32mnot\u001b[0m \u001b[1;32mNone\u001b[0m\u001b[1;33m:\u001b[0m\u001b[1;33m\u001b[0m\u001b[1;33m\u001b[0m\u001b[0m\n\u001b[1;32m-> 1189\u001b[1;33m                             \u001b[0mright_keys\u001b[0m\u001b[1;33m.\u001b[0m\u001b[0mappend\u001b[0m\u001b[1;33m(\u001b[0m\u001b[0mright\u001b[0m\u001b[1;33m.\u001b[0m\u001b[0m_get_label_or_level_values\u001b[0m\u001b[1;33m(\u001b[0m\u001b[0mrk\u001b[0m\u001b[1;33m)\u001b[0m\u001b[1;33m)\u001b[0m\u001b[1;33m\u001b[0m\u001b[1;33m\u001b[0m\u001b[0m\n\u001b[0m\u001b[0;32m   1190\u001b[0m                         \u001b[1;32melse\u001b[0m\u001b[1;33m:\u001b[0m\u001b[1;33m\u001b[0m\u001b[1;33m\u001b[0m\u001b[0m\n\u001b[0;32m   1191\u001b[0m                             \u001b[1;31m# work-around for merge_asof(right_index=True)\u001b[0m\u001b[1;33m\u001b[0m\u001b[1;33m\u001b[0m\u001b[0m\n\u001b[0;32m   1192\u001b[0m                             \u001b[0mright_keys\u001b[0m\u001b[1;33m.\u001b[0m\u001b[0mappend\u001b[0m\u001b[1;33m(\u001b[0m\u001b[0mright\u001b[0m\u001b[1;33m.\u001b[0m\u001b[0mindex\u001b[0m\u001b[1;33m)\u001b[0m\u001b[1;33m\u001b[0m\u001b[1;33m\u001b[0m\u001b[0m\n",
      "\u001b[1;32mC:\\python 3.11\\Lib\\site-packages\\pandas\\core\\generic.py\u001b[0m in \u001b[0;36m?\u001b[1;34m(self, key, axis)\u001b[0m\n\u001b[0;32m   1774\u001b[0m             \u001b[0mvalues\u001b[0m \u001b[1;33m=\u001b[0m \u001b[0mself\u001b[0m\u001b[1;33m.\u001b[0m\u001b[0mxs\u001b[0m\u001b[1;33m(\u001b[0m\u001b[0mkey\u001b[0m\u001b[1;33m,\u001b[0m \u001b[0maxis\u001b[0m\u001b[1;33m=\u001b[0m\u001b[0mother_axes\u001b[0m\u001b[1;33m[\u001b[0m\u001b[1;36m0\u001b[0m\u001b[1;33m]\u001b[0m\u001b[1;33m)\u001b[0m\u001b[1;33m.\u001b[0m\u001b[0m_values\u001b[0m\u001b[1;33m\u001b[0m\u001b[1;33m\u001b[0m\u001b[0m\n\u001b[0;32m   1775\u001b[0m         \u001b[1;32melif\u001b[0m \u001b[0mself\u001b[0m\u001b[1;33m.\u001b[0m\u001b[0m_is_level_reference\u001b[0m\u001b[1;33m(\u001b[0m\u001b[0mkey\u001b[0m\u001b[1;33m,\u001b[0m \u001b[0maxis\u001b[0m\u001b[1;33m=\u001b[0m\u001b[0maxis\u001b[0m\u001b[1;33m)\u001b[0m\u001b[1;33m:\u001b[0m\u001b[1;33m\u001b[0m\u001b[1;33m\u001b[0m\u001b[0m\n\u001b[0;32m   1776\u001b[0m             \u001b[0mvalues\u001b[0m \u001b[1;33m=\u001b[0m \u001b[0mself\u001b[0m\u001b[1;33m.\u001b[0m\u001b[0maxes\u001b[0m\u001b[1;33m[\u001b[0m\u001b[0maxis\u001b[0m\u001b[1;33m]\u001b[0m\u001b[1;33m.\u001b[0m\u001b[0mget_level_values\u001b[0m\u001b[1;33m(\u001b[0m\u001b[0mkey\u001b[0m\u001b[1;33m)\u001b[0m\u001b[1;33m.\u001b[0m\u001b[0m_values\u001b[0m\u001b[1;33m\u001b[0m\u001b[1;33m\u001b[0m\u001b[0m\n\u001b[0;32m   1777\u001b[0m         \u001b[1;32melse\u001b[0m\u001b[1;33m:\u001b[0m\u001b[1;33m\u001b[0m\u001b[1;33m\u001b[0m\u001b[0m\n\u001b[1;32m-> 1778\u001b[1;33m             \u001b[1;32mraise\u001b[0m \u001b[0mKeyError\u001b[0m\u001b[1;33m(\u001b[0m\u001b[0mkey\u001b[0m\u001b[1;33m)\u001b[0m\u001b[1;33m\u001b[0m\u001b[1;33m\u001b[0m\u001b[0m\n\u001b[0m\u001b[0;32m   1779\u001b[0m \u001b[1;33m\u001b[0m\u001b[0m\n\u001b[0;32m   1780\u001b[0m         \u001b[1;31m# Check for duplicates\u001b[0m\u001b[1;33m\u001b[0m\u001b[1;33m\u001b[0m\u001b[0m\n\u001b[0;32m   1781\u001b[0m         \u001b[1;32mif\u001b[0m \u001b[0mvalues\u001b[0m\u001b[1;33m.\u001b[0m\u001b[0mndim\u001b[0m \u001b[1;33m>\u001b[0m \u001b[1;36m1\u001b[0m\u001b[1;33m:\u001b[0m\u001b[1;33m\u001b[0m\u001b[1;33m\u001b[0m\u001b[0m\n",
      "\u001b[1;31mKeyError\u001b[0m: 'KeyColumn'"
     ]
    }
   ],
   "source": [
    "# Merging and joining DataFrames\n",
    "merged_df = pd.merge(df1, df2, on='KeyColumn') # Merge DataFrames based on a common column\n",
    "joined_df = df1.join(df2, on='KeyColumn') # Join DataFrames based on an index or column"
   ]
  },
  {
   "cell_type": "markdown",
   "id": "c30bcc77",
   "metadata": {},
   "source": [
    "# Pivot Table"
   ]
  },
  {
   "cell_type": "markdown",
   "id": "a67db67b",
   "metadata": {},
   "source": [
    "A pivot table in pandas is a quantative table that summarizes a large\n",
    "Dataframes, Such as a large dataset. it is a component of data processing.\n",
    "in pivot table the report may includes average, mode, summation, or other\n",
    "statistical elements. Pivot tables were originally linked with microsoft\n",
    "excel"
   ]
  },
  {
   "cell_type": "code",
   "execution_count": 82,
   "id": "55099069",
   "metadata": {},
   "outputs": [],
   "source": [
    "#import pandas as pd\n",
    "\n",
    "pivot_table = pd.pivot_table(df,index=['Name','Gender'])"
   ]
  },
  {
   "cell_type": "code",
   "execution_count": 83,
   "id": "0efd7608",
   "metadata": {},
   "outputs": [
    {
     "data": {
      "text/html": [
       "<div>\n",
       "<style scoped>\n",
       "    .dataframe tbody tr th:only-of-type {\n",
       "        vertical-align: middle;\n",
       "    }\n",
       "\n",
       "    .dataframe tbody tr th {\n",
       "        vertical-align: top;\n",
       "    }\n",
       "\n",
       "    .dataframe thead th {\n",
       "        text-align: right;\n",
       "    }\n",
       "</style>\n",
       "<table border=\"1\" class=\"dataframe\">\n",
       "  <thead>\n",
       "    <tr style=\"text-align: right;\">\n",
       "      <th></th>\n",
       "      <th></th>\n",
       "      <th>Age</th>\n",
       "      <th>NewColumn</th>\n",
       "      <th>Salary</th>\n",
       "    </tr>\n",
       "    <tr>\n",
       "      <th>Name</th>\n",
       "      <th>Gender</th>\n",
       "      <th></th>\n",
       "      <th></th>\n",
       "      <th></th>\n",
       "    </tr>\n",
       "  </thead>\n",
       "  <tbody>\n",
       "    <tr>\n",
       "      <th>AJ</th>\n",
       "      <th>Male</th>\n",
       "      <td>23</td>\n",
       "      <td>100</td>\n",
       "      <td>10000000</td>\n",
       "    </tr>\n",
       "    <tr>\n",
       "      <th>Alice</th>\n",
       "      <th>Female</th>\n",
       "      <td>25</td>\n",
       "      <td>100</td>\n",
       "      <td>50000</td>\n",
       "    </tr>\n",
       "    <tr>\n",
       "      <th>Bob</th>\n",
       "      <th>Male</th>\n",
       "      <td>32</td>\n",
       "      <td>100</td>\n",
       "      <td>60000</td>\n",
       "    </tr>\n",
       "    <tr>\n",
       "      <th>Charlie</th>\n",
       "      <th>Male</th>\n",
       "      <td>28</td>\n",
       "      <td>100</td>\n",
       "      <td>55000</td>\n",
       "    </tr>\n",
       "    <tr>\n",
       "      <th>David</th>\n",
       "      <th>Male</th>\n",
       "      <td>35</td>\n",
       "      <td>100</td>\n",
       "      <td>70000</td>\n",
       "    </tr>\n",
       "    <tr>\n",
       "      <th>Eve</th>\n",
       "      <th>Female</th>\n",
       "      <td>30</td>\n",
       "      <td>100</td>\n",
       "      <td>65000</td>\n",
       "    </tr>\n",
       "  </tbody>\n",
       "</table>\n",
       "</div>"
      ],
      "text/plain": [
       "                Age  NewColumn    Salary\n",
       "Name    Gender                          \n",
       "AJ      Male     23        100  10000000\n",
       "Alice   Female   25        100     50000\n",
       "Bob     Male     32        100     60000\n",
       "Charlie Male     28        100     55000\n",
       "David   Male     35        100     70000\n",
       "Eve     Female   30        100     65000"
      ]
     },
     "execution_count": 83,
     "metadata": {},
     "output_type": "execute_result"
    }
   ],
   "source": [
    "pivot_table"
   ]
  },
  {
   "cell_type": "code",
   "execution_count": 84,
   "id": "e4a7fb04",
   "metadata": {},
   "outputs": [
    {
     "data": {
      "text/html": [
       "<div>\n",
       "<style scoped>\n",
       "    .dataframe tbody tr th:only-of-type {\n",
       "        vertical-align: middle;\n",
       "    }\n",
       "\n",
       "    .dataframe tbody tr th {\n",
       "        vertical-align: top;\n",
       "    }\n",
       "\n",
       "    .dataframe thead th {\n",
       "        text-align: right;\n",
       "    }\n",
       "</style>\n",
       "<table border=\"1\" class=\"dataframe\">\n",
       "  <thead>\n",
       "    <tr style=\"text-align: right;\">\n",
       "      <th></th>\n",
       "      <th>Name</th>\n",
       "      <th>Age</th>\n",
       "      <th>Gender</th>\n",
       "      <th>Salary</th>\n",
       "      <th>NewColumn</th>\n",
       "    </tr>\n",
       "  </thead>\n",
       "  <tbody>\n",
       "    <tr>\n",
       "      <th>0</th>\n",
       "      <td>Alice</td>\n",
       "      <td>25</td>\n",
       "      <td>Female</td>\n",
       "      <td>50000</td>\n",
       "      <td>100</td>\n",
       "    </tr>\n",
       "    <tr>\n",
       "      <th>1</th>\n",
       "      <td>Bob</td>\n",
       "      <td>32</td>\n",
       "      <td>Male</td>\n",
       "      <td>60000</td>\n",
       "      <td>100</td>\n",
       "    </tr>\n",
       "    <tr>\n",
       "      <th>2</th>\n",
       "      <td>Charlie</td>\n",
       "      <td>28</td>\n",
       "      <td>Male</td>\n",
       "      <td>55000</td>\n",
       "      <td>100</td>\n",
       "    </tr>\n",
       "    <tr>\n",
       "      <th>3</th>\n",
       "      <td>David</td>\n",
       "      <td>35</td>\n",
       "      <td>Male</td>\n",
       "      <td>70000</td>\n",
       "      <td>100</td>\n",
       "    </tr>\n",
       "    <tr>\n",
       "      <th>4</th>\n",
       "      <td>Eve</td>\n",
       "      <td>30</td>\n",
       "      <td>Female</td>\n",
       "      <td>65000</td>\n",
       "      <td>100</td>\n",
       "    </tr>\n",
       "    <tr>\n",
       "      <th>5</th>\n",
       "      <td>AJ</td>\n",
       "      <td>23</td>\n",
       "      <td>Male</td>\n",
       "      <td>10000000</td>\n",
       "      <td>100</td>\n",
       "    </tr>\n",
       "  </tbody>\n",
       "</table>\n",
       "</div>"
      ],
      "text/plain": [
       "      Name  Age  Gender    Salary  NewColumn\n",
       "0    Alice   25  Female     50000        100\n",
       "1      Bob   32    Male     60000        100\n",
       "2  Charlie   28    Male     55000        100\n",
       "3    David   35    Male     70000        100\n",
       "4      Eve   30  Female     65000        100\n",
       "5       AJ   23    Male  10000000        100"
      ]
     },
     "execution_count": 84,
     "metadata": {},
     "output_type": "execute_result"
    }
   ],
   "source": [
    "df"
   ]
  },
  {
   "cell_type": "code",
   "execution_count": 88,
   "id": "ce980e71",
   "metadata": {},
   "outputs": [],
   "source": [
    "# Group wise operations\n",
    "df['NewColumn'] = df.groupby('Gender')['Age'].transform('mean')"
   ]
  },
  {
   "cell_type": "code",
   "execution_count": 89,
   "id": "5351ef77",
   "metadata": {},
   "outputs": [
    {
     "data": {
      "text/html": [
       "<div>\n",
       "<style scoped>\n",
       "    .dataframe tbody tr th:only-of-type {\n",
       "        vertical-align: middle;\n",
       "    }\n",
       "\n",
       "    .dataframe tbody tr th {\n",
       "        vertical-align: top;\n",
       "    }\n",
       "\n",
       "    .dataframe thead th {\n",
       "        text-align: right;\n",
       "    }\n",
       "</style>\n",
       "<table border=\"1\" class=\"dataframe\">\n",
       "  <thead>\n",
       "    <tr style=\"text-align: right;\">\n",
       "      <th></th>\n",
       "      <th>Name</th>\n",
       "      <th>Age</th>\n",
       "      <th>Gender</th>\n",
       "      <th>Salary</th>\n",
       "      <th>NewColumn</th>\n",
       "    </tr>\n",
       "  </thead>\n",
       "  <tbody>\n",
       "    <tr>\n",
       "      <th>0</th>\n",
       "      <td>Alice</td>\n",
       "      <td>25</td>\n",
       "      <td>Female</td>\n",
       "      <td>50000</td>\n",
       "      <td>27.5</td>\n",
       "    </tr>\n",
       "    <tr>\n",
       "      <th>1</th>\n",
       "      <td>Bob</td>\n",
       "      <td>32</td>\n",
       "      <td>Male</td>\n",
       "      <td>60000</td>\n",
       "      <td>29.5</td>\n",
       "    </tr>\n",
       "    <tr>\n",
       "      <th>2</th>\n",
       "      <td>Charlie</td>\n",
       "      <td>28</td>\n",
       "      <td>Male</td>\n",
       "      <td>55000</td>\n",
       "      <td>29.5</td>\n",
       "    </tr>\n",
       "    <tr>\n",
       "      <th>3</th>\n",
       "      <td>David</td>\n",
       "      <td>35</td>\n",
       "      <td>Male</td>\n",
       "      <td>70000</td>\n",
       "      <td>29.5</td>\n",
       "    </tr>\n",
       "    <tr>\n",
       "      <th>4</th>\n",
       "      <td>Eve</td>\n",
       "      <td>30</td>\n",
       "      <td>Female</td>\n",
       "      <td>65000</td>\n",
       "      <td>27.5</td>\n",
       "    </tr>\n",
       "    <tr>\n",
       "      <th>5</th>\n",
       "      <td>AJ</td>\n",
       "      <td>23</td>\n",
       "      <td>Male</td>\n",
       "      <td>10000000</td>\n",
       "      <td>29.5</td>\n",
       "    </tr>\n",
       "  </tbody>\n",
       "</table>\n",
       "</div>"
      ],
      "text/plain": [
       "      Name  Age  Gender    Salary  NewColumn\n",
       "0    Alice   25  Female     50000       27.5\n",
       "1      Bob   32    Male     60000       29.5\n",
       "2  Charlie   28    Male     55000       29.5\n",
       "3    David   35    Male     70000       29.5\n",
       "4      Eve   30  Female     65000       27.5\n",
       "5       AJ   23    Male  10000000       29.5"
      ]
     },
     "execution_count": 89,
     "metadata": {},
     "output_type": "execute_result"
    }
   ],
   "source": [
    "df"
   ]
  },
  {
   "cell_type": "code",
   "execution_count": 90,
   "id": "53b6f53f",
   "metadata": {},
   "outputs": [],
   "source": [
    "# Calculate Q1 and Q3\n",
    "\n",
    "Q1 = df['Salary'].quantile(0.25)\n",
    "Q3 = df['Salary'].quantile(0.75)"
   ]
  },
  {
   "cell_type": "code",
   "execution_count": 91,
   "id": "2bb86e10",
   "metadata": {},
   "outputs": [],
   "source": [
    "# Calculate IQR\n",
    "IQR = Q3 -Q1"
   ]
  },
  {
   "cell_type": "code",
   "execution_count": 92,
   "id": "b972f4e2",
   "metadata": {},
   "outputs": [],
   "source": [
    "# Define outlier thresholds\n",
    "lower_threshold = Q1 - 1.5 * IQR\n",
    "upper_threshold = Q3 + 1.5 * IQR"
   ]
  },
  {
   "cell_type": "code",
   "execution_count": 93,
   "id": "f8102431",
   "metadata": {},
   "outputs": [],
   "source": [
    "# Identify outliers\n",
    "outliers = df[(df['Salary'] < lower_threshold) | (df['Salary'] > upper_threshold)]"
   ]
  },
  {
   "cell_type": "code",
   "execution_count": 94,
   "id": "0f4775f8",
   "metadata": {},
   "outputs": [],
   "source": [
    "# Identify outliers\n",
    "outliers = df[(df['Salary'] < lower_threshold) | (df['Salary'] > upper_threshold)]"
   ]
  },
  {
   "cell_type": "code",
   "execution_count": 95,
   "id": "6f8e0daf",
   "metadata": {},
   "outputs": [],
   "source": [
    "# Display the outliers\n",
    "outliers = df[(df['Salary'] < lower_threshold) | (df['Salary'] > upper_threshold)]"
   ]
  },
  {
   "cell_type": "code",
   "execution_count": 96,
   "id": "59fc530a",
   "metadata": {},
   "outputs": [
    {
     "name": "stdout",
     "output_type": "stream",
     "text": [
      "  Name  Age Gender    Salary  NewColumn\n",
      "5   AJ   23   Male  10000000       29.5\n"
     ]
    }
   ],
   "source": [
    "# Display the outliers\n",
    "print(outliers)"
   ]
  },
  {
   "cell_type": "code",
   "execution_count": 97,
   "id": "986d7e8e",
   "metadata": {},
   "outputs": [
    {
     "data": {
      "text/html": [
       "<div>\n",
       "<style scoped>\n",
       "    .dataframe tbody tr th:only-of-type {\n",
       "        vertical-align: middle;\n",
       "    }\n",
       "\n",
       "    .dataframe tbody tr th {\n",
       "        vertical-align: top;\n",
       "    }\n",
       "\n",
       "    .dataframe thead th {\n",
       "        text-align: right;\n",
       "    }\n",
       "</style>\n",
       "<table border=\"1\" class=\"dataframe\">\n",
       "  <thead>\n",
       "    <tr style=\"text-align: right;\">\n",
       "      <th></th>\n",
       "      <th>Age</th>\n",
       "      <th>Salary</th>\n",
       "      <th>NewColumn</th>\n",
       "    </tr>\n",
       "  </thead>\n",
       "  <tbody>\n",
       "    <tr>\n",
       "      <th>Age</th>\n",
       "      <td>1.000000</td>\n",
       "      <td>-0.641550</td>\n",
       "      <td>0.232299</td>\n",
       "    </tr>\n",
       "    <tr>\n",
       "      <th>Salary</th>\n",
       "      <td>-0.641550</td>\n",
       "      <td>1.000000</td>\n",
       "      <td>0.316704</td>\n",
       "    </tr>\n",
       "    <tr>\n",
       "      <th>NewColumn</th>\n",
       "      <td>0.232299</td>\n",
       "      <td>0.316704</td>\n",
       "      <td>1.000000</td>\n",
       "    </tr>\n",
       "  </tbody>\n",
       "</table>\n",
       "</div>"
      ],
      "text/plain": [
       "                Age    Salary  NewColumn\n",
       "Age        1.000000 -0.641550   0.232299\n",
       "Salary    -0.641550  1.000000   0.316704\n",
       "NewColumn  0.232299  0.316704   1.000000"
      ]
     },
     "execution_count": 97,
     "metadata": {},
     "output_type": "execute_result"
    }
   ],
   "source": [
    "# Correlation Metrics\n",
    "numeric_df = df.select_dtypes(include='number')\n",
    "correlation_matrix = numeric_df.corr()\n",
    "correlation_matrix"
   ]
  },
  {
   "cell_type": "markdown",
   "id": "b6668d83",
   "metadata": {},
   "source": [
    "# VISUALIZATION USING PANDAS"
   ]
  },
  {
   "cell_type": "code",
   "execution_count": 98,
   "id": "8d07c113",
   "metadata": {},
   "outputs": [
    {
     "name": "stdout",
     "output_type": "stream",
     "text": [
      "Requirement already satisfied: matplotlib in c:\\python 3.11\\lib\\site-packages (3.7.2)\n",
      "Requirement already satisfied: contourpy>=1.0.1 in c:\\python 3.11\\lib\\site-packages (from matplotlib) (1.1.0)\n",
      "Requirement already satisfied: cycler>=0.10 in c:\\python 3.11\\lib\\site-packages (from matplotlib) (0.11.0)\n",
      "Requirement already satisfied: fonttools>=4.22.0 in c:\\python 3.11\\lib\\site-packages (from matplotlib) (4.40.0)\n",
      "Requirement already satisfied: kiwisolver>=1.0.1 in c:\\python 3.11\\lib\\site-packages (from matplotlib) (1.4.4)\n",
      "Requirement already satisfied: numpy>=1.20 in c:\\python 3.11\\lib\\site-packages (from matplotlib) (1.24.2)\n",
      "Requirement already satisfied: packaging>=20.0 in c:\\python 3.11\\lib\\site-packages (from matplotlib) (23.1)\n",
      "Requirement already satisfied: pillow>=6.2.0 in c:\\python 3.11\\lib\\site-packages (from matplotlib) (10.0.0)\n",
      "Requirement already satisfied: pyparsing<3.1,>=2.3.1 in c:\\python 3.11\\lib\\site-packages (from matplotlib) (3.0.9)\n",
      "Requirement already satisfied: python-dateutil>=2.7 in c:\\python 3.11\\lib\\site-packages (from matplotlib) (2.8.2)\n",
      "Requirement already satisfied: six>=1.5 in c:\\python 3.11\\lib\\site-packages (from python-dateutil>=2.7->matplotlib) (1.16.0)\n",
      "Note: you may need to restart the kernel to use updated packages.\n"
     ]
    }
   ],
   "source": [
    "pip install matplotlib"
   ]
  },
  {
   "cell_type": "code",
   "execution_count": 99,
   "id": "be9d15e3",
   "metadata": {},
   "outputs": [
    {
     "data": {
      "text/plain": [
       "<Axes: xlabel='Year'>"
      ]
     },
     "execution_count": 99,
     "metadata": {},
     "output_type": "execute_result"
    },
    {
     "data": {
      "image/png": "[encoded data removed]",
      "text/plain": [
       "<Figure size 640x480 with 1 Axes>"
      ]
     },
     "metadata": {},
     "output_type": "display_data"
    }
   ],
   "source": [
    "# Line plot\n",
    "\n",
    "import pandas as pd\n",
    "# Create a DataFrame\n",
    "data = {'Year': [2017, 2018, 2019, 2020],\n",
    "        'Sales': [100, 150, 120, 200]}\n",
    "df = pd.DataFrame(data)\n",
    "# Plot a Line chart\n",
    "df.plot(x=\"Year\", y='Sales')"
   ]
  },
  {
   "cell_type": "code",
   "execution_count": 100,
   "id": "edcae170",
   "metadata": {},
   "outputs": [
    {
     "data": {
      "text/plain": [
       "<Axes: xlabel='City'>"
      ]
     },
     "execution_count": 100,
     "metadata": {},
     "output_type": "execute_result"
    },
    {
     "data": {
      "image/png": "[encoded data removed]",
      "text/plain": [
       "<Figure size 640x480 with 1 Axes>"
      ]
     },
     "metadata": {},
     "output_type": "display_data"
    }
   ],
   "source": [
    "# Bar plot\n",
    "\n",
    "import pandas as pd\n",
    "\n",
    "# Create a DataFrame\n",
    "\n",
    "data = {'City': ['Kota', 'Surat', 'Aajmer', 'Jaipur'],\n",
    "        'Population': [8600000, 8900000, 2200000, 14000000]}\n",
    "df = pd.DataFrame(data)\n",
    "\n",
    "# Plot a bar chart\n",
    "df.plot(x='City', y='Population', kind='bar')"
   ]
  },
  {
   "cell_type": "code",
   "execution_count": 101,
   "id": "009a0014",
   "metadata": {},
   "outputs": [
    {
     "data": {
      "text/plain": [
       "<Axes: ylabel='Frequency'>"
      ]
     },
     "execution_count": 101,
     "metadata": {},
     "output_type": "execute_result"
    },
    {
     "data": {
      "image/png": "[encoded data removed]",
      "text/plain": [
       "<Figure size 640x480 with 1 Axes>"
      ]
     },
     "metadata": {},
     "output_type": "display_data"
    }
   ],
   "source": [
    "# Histogram\n",
    "\n",
    "import pandas as pd\n",
    "\n",
    "# Create a DataFrame\n",
    "data = {'Scores': [85, 92, 78, 88, 95, 80, 75, 90, 84, 92]}\n",
    "df = pd.DataFrame(data)\n",
    "# Plot a histogram\n",
    "df.plot.hist()"
   ]
  },
  {
   "cell_type": "code",
   "execution_count": 102,
   "id": "f6e89999",
   "metadata": {},
   "outputs": [
    {
     "data": {
      "text/plain": [
       "<Axes: xlabel='Height', ylabel='Weight'>"
      ]
     },
     "execution_count": 102,
     "metadata": {},
     "output_type": "execute_result"
    },
    {
     "data": {
      "image/png": "[encoded data removed]",
      "text/plain": [
       "<Figure size 640x480 with 1 Axes>"
      ]
     },
     "metadata": {},
     "output_type": "display_data"
    }
   ],
   "source": [
    "# Scatter Plot:\n",
    "import pandas as pd\n",
    "# Create a DataFrame\n",
    "data = {'Height': [160, 170, 155, 180, 165],\n",
    "        'Weight': [60, 65, 50, 75, 62]}\n",
    "df = pd.DataFrame(data)\n",
    "#Plot a scatter plot\n",
    "df.plot.scatter(x='Height', y='Weight')"
   ]
  },
  {
   "cell_type": "code",
   "execution_count": 103,
   "id": "ab288bcb",
   "metadata": {},
   "outputs": [
    {
     "data": {
      "text/plain": [
       "<Axes: title={'center': 'Scores'}, xlabel='Group'>"
      ]
     },
     "execution_count": 103,
     "metadata": {},
     "output_type": "execute_result"
    },
    {
     "data": {
      "image/png": "[encoded data removed]",
      "text/plain": [
       "<Figure size 640x480 with 1 Axes>"
      ]
     },
     "metadata": {},
     "output_type": "display_data"
    }
   ],
   "source": [
    "#Box Plot\n",
    "import pandas as pd\n",
    "#Create a DataFrame\n",
    "data = {'Group': ['A', 'B', 'C', 'A', 'B', 'c'],\n",
    "        'Scores': [85, 90, 78, 82, 88, 75]}\n",
    "df = pd.DataFrame(data)\n",
    "# Plot a box plot\n",
    "df.boxplot(column='Scores', by='Group')"
   ]
  },
  {
   "cell_type": "markdown",
   "id": "2408e40a",
   "metadata": {},
   "source": [
    "# Numpy"
   ]
  },
  {
   "cell_type": "code",
   "execution_count": 118,
   "id": "910c44c8",
   "metadata": {},
   "outputs": [
    {
     "name": "stdout",
     "output_type": "stream",
     "text": [
      "Requirement already satisfied: numpy in c:\\python 3.11\\lib\\site-packages (1.24.2)\n",
      "Note: you may need to restart the kernel to use updated packages.\n"
     ]
    }
   ],
   "source": [
    "# For installing Numpy\n",
    "%pip install numpy"
   ]
  },
  {
   "cell_type": "code",
   "execution_count": 119,
   "id": "fabced0b",
   "metadata": {},
   "outputs": [],
   "source": [
    "# Importing numpy\n",
    "import numpy as np"
   ]
  },
  {
   "cell_type": "code",
   "execution_count": 120,
   "id": "a8d09b7f",
   "metadata": {},
   "outputs": [],
   "source": [
    "# Creating a NumPy array\n",
    "arr = np.array([1, 2, 3, 4, 5])\n",
    "arr1 = np.array([2,3,4,5,6])\n",
    "arr2 = np.array([3,4,5,6,7])"
   ]
  },
  {
   "cell_type": "code",
   "execution_count": 121,
   "id": "c771ba1e",
   "metadata": {},
   "outputs": [
    {
     "name": "stdout",
     "output_type": "stream",
     "text": [
      "(5,)\n",
      "int32\n"
     ]
    },
    {
     "data": {
      "text/plain": [
       "5"
      ]
     },
     "execution_count": 121,
     "metadata": {},
     "output_type": "execute_result"
    }
   ],
   "source": [
    "# Basic array operations\n",
    "print(arr.shape) # Get the dimensions of the array\n",
    "print(arr.dtype) # Get the data type of the array elements\n",
    "arr.ndim # Get the number of dimensions of the array\n",
    "len(arr) # Get the Length of the array"
   ]
  },
  {
   "cell_type": "code",
   "execution_count": 122,
   "id": "408b8d74",
   "metadata": {},
   "outputs": [
    {
     "data": {
      "text/plain": [
       "array([1, 3, 5])"
      ]
     },
     "execution_count": 122,
     "metadata": {},
     "output_type": "execute_result"
    }
   ],
   "source": [
    "# Accessing array elements\n",
    "arr[0] # Access a specific element by index\n",
    "arr[1:] # Access a slice of elements\n",
    "arr[[0, 2, 4]] # Access specific elements using a list of indices"
   ]
  },
  {
   "cell_type": "code",
   "execution_count": 123,
   "id": "03f8e075",
   "metadata": {},
   "outputs": [
    {
     "data": {
      "text/plain": [
       "110"
      ]
     },
     "execution_count": 123,
     "metadata": {},
     "output_type": "execute_result"
    }
   ],
   "source": [
    "# Array arithmetic operations\n",
    "arr1 + arr2 # Element-wise addition of two arrays\n",
    "arr1 - arr2 # Element-wise subtraction of two arrays\n",
    "arr1 * arr2 # Element-wise multiplication of two arrays\n",
    "arr1 / arr2 # Element-wise division of two arrays\n",
    "np.dot(arr1, arr2) # Dot product of two arrays"
   ]
  },
  {
   "cell_type": "code",
   "execution_count": 124,
   "id": "7aee8b91",
   "metadata": {},
   "outputs": [
    {
     "data": {
      "text/plain": [
       "(5,)"
      ]
     },
     "execution_count": 124,
     "metadata": {},
     "output_type": "execute_result"
    }
   ],
   "source": [
    "arr.shape"
   ]
  },
  {
   "cell_type": "code",
   "execution_count": 125,
   "id": "c1db5002",
   "metadata": {},
   "outputs": [
    {
     "name": "stdout",
     "output_type": "stream",
     "text": [
      "[[1 2 3]\n",
      " [3 5 7]]\n"
     ]
    },
    {
     "data": {
      "text/plain": [
       "array([[1, 2],\n",
       "       [3, 3],\n",
       "       [5, 7]])"
      ]
     },
     "execution_count": 125,
     "metadata": {},
     "output_type": "execute_result"
    }
   ],
   "source": [
    "arr6 = np.array([[1,2,3], [3,5,7]])\n",
    "print(arr6)\n",
    "s = arr6.reshape((3,2))\n",
    "s"
   ]
  },
  {
   "cell_type": "code",
   "execution_count": 126,
   "id": "56d8b194",
   "metadata": {},
   "outputs": [
    {
     "data": {
      "text/plain": [
       "1.4142135623730951"
      ]
     },
     "execution_count": 126,
     "metadata": {},
     "output_type": "execute_result"
    }
   ],
   "source": [
    "#Array aggregation and statistics\n",
    "\n",
    "arr.sum() # Sum of all elements in the array\n",
    "arr.mean() # Mean of all elements in the array\n",
    "arr.max() # Maximum value in the array\n",
    "arr.min() # Minimum value in the array\n",
    "arr.std() # Standard deviation of the array elements"
   ]
  },
  {
   "cell_type": "code",
   "execution_count": 134,
   "id": "e5fc5b47",
   "metadata": {},
   "outputs": [
    {
     "name": "stdout",
     "output_type": "stream",
     "text": [
      "[1 2 3 4 5]\n",
      "[ 6  7  8  9 10]\n"
     ]
    },
    {
     "data": {
      "text/plain": [
       "array([ 5,  7,  9, 11, 13])"
      ]
     },
     "execution_count": 134,
     "metadata": {},
     "output_type": "execute_result"
    }
   ],
   "source": [
    "# Array broadcasting\n",
    "print(arr)\n",
    "print(arr + 5) # Add a scalar value to each element of the array\n",
    "arr1 + arr2 # Perform element-wise operations on arrays with different shape"
   ]
  },
  {
   "cell_type": "code",
   "execution_count": 135,
   "id": "8f4189b7",
   "metadata": {},
   "outputs": [
    {
     "data": {
      "text/plain": [
       "array([2, 4])"
      ]
     },
     "execution_count": 135,
     "metadata": {},
     "output_type": "execute_result"
    }
   ],
   "source": [
    "# Array slicing and indexing\n",
    "arr[:3] # Get the first three elements of the array\n",
    "arr[3:] # Get all elements from index 3 onwards\n",
    "arr[1:5:2] # Get elements from index 1 to 5 (exclusive) with a step 2"
   ]
  },
  {
   "cell_type": "code",
   "execution_count": 136,
   "id": "0ad05e16",
   "metadata": {},
   "outputs": [
    {
     "name": "stdout",
     "output_type": "stream",
     "text": [
      "[[0. 0. 0. 0.]\n",
      " [0. 0. 0. 0.]\n",
      " [0. 0. 0. 0.]\n",
      " [0. 0. 0. 0.]]\n",
      "[[1. 1. 1.]\n",
      " [1. 1. 1.]]\n",
      "[0 3 6 9]\n",
      "[[0.61538343 0.70289137 0.90121917 0.83639374]\n",
      " [0.7560808  0.62492264 0.53432708 0.74533532]]\n"
     ]
    }
   ],
   "source": [
    "# Generating arrays with specific values\n",
    "print(np.zeros((4, 4))) # Create a 2x3 array filled with zeros\n",
    "print(np.ones((2, 3))) # Create a 2x3 array filled with ones\n",
    "print(np.arange(0, 10, 3)) # Create an array with values from 0 to 10 (exclusive) with a step of 2\n",
    "print(np.random.rand(2, 4)) # Create a 3x3 array with random values between 0 and 1"
   ]
  },
  {
   "cell_type": "code",
   "execution_count": 137,
   "id": "d9d6b9e2",
   "metadata": {},
   "outputs": [
    {
     "data": {
      "text/plain": [
       "array([2, 3, 4, 5, 6, 3, 4, 5, 6, 7])"
      ]
     },
     "execution_count": 137,
     "metadata": {},
     "output_type": "execute_result"
    }
   ],
   "source": [
    "# Array concatenation and stacking\n",
    "\n",
    "np.concatenate((arr1, arr2)) # Concatenate arrays along a specified axis\n",
    "np.vstack((arr1, arr2)) # Stock arrays vertically (row-wise)\n",
    "np.hstack((arr1, arr2)) # Stack arrays horizontally (column-wise)"
   ]
  },
  {
   "cell_type": "code",
   "execution_count": 140,
   "id": "0cfd9241",
   "metadata": {},
   "outputs": [
    {
     "ename": "LinAlgError",
     "evalue": "1-dimensional array given. Array must be at least two-dimensional",
     "output_type": "error",
     "traceback": [
      "\u001b[1;31m---------------------------------------------------------------------------\u001b[0m",
      "\u001b[1;31mLinAlgError\u001b[0m                               Traceback (most recent call last)",
      "Cell \u001b[1;32mIn[140], line 4\u001b[0m\n\u001b[0;32m      2\u001b[0m arr\u001b[38;5;241m.\u001b[39mT \u001b[38;5;66;03m# Transpose of the array\u001b[39;00m\n\u001b[0;32m      3\u001b[0m np\u001b[38;5;241m.\u001b[39mdot(arr1, arr2) \u001b[38;5;66;03m# Matrix multiplication of two arrays\u001b[39;00m\n\u001b[1;32m----> 4\u001b[0m \u001b[43mnp\u001b[49m\u001b[38;5;241;43m.\u001b[39;49m\u001b[43mlinalg\u001b[49m\u001b[38;5;241;43m.\u001b[39;49m\u001b[43minv\u001b[49m\u001b[43m(\u001b[49m\u001b[43marr\u001b[49m\u001b[43m)\u001b[49m \u001b[38;5;66;03m# Inverse of a square matrix\u001b[39;00m\n",
      "File \u001b[1;32m<__array_function__ internals>:200\u001b[0m, in \u001b[0;36minv\u001b[1;34m(*args, **kwargs)\u001b[0m\n",
      "File \u001b[1;32mC:\\python 3.11\\Lib\\site-packages\\numpy\\linalg\\linalg.py:532\u001b[0m, in \u001b[0;36minv\u001b[1;34m(a)\u001b[0m\n\u001b[0;32m    471\u001b[0m \u001b[38;5;250m\u001b[39m\u001b[38;5;124;03m\"\"\"\u001b[39;00m\n\u001b[0;32m    472\u001b[0m \u001b[38;5;124;03mCompute the (multiplicative) inverse of a matrix.\u001b[39;00m\n\u001b[0;32m    473\u001b[0m \n\u001b[1;32m   (...)\u001b[0m\n\u001b[0;32m    529\u001b[0m \n\u001b[0;32m    530\u001b[0m \u001b[38;5;124;03m\"\"\"\u001b[39;00m\n\u001b[0;32m    531\u001b[0m a, wrap \u001b[38;5;241m=\u001b[39m _makearray(a)\n\u001b[1;32m--> 532\u001b[0m \u001b[43m_assert_stacked_2d\u001b[49m\u001b[43m(\u001b[49m\u001b[43ma\u001b[49m\u001b[43m)\u001b[49m\n\u001b[0;32m    533\u001b[0m _assert_stacked_square(a)\n\u001b[0;32m    534\u001b[0m t, result_t \u001b[38;5;241m=\u001b[39m _commonType(a)\n",
      "File \u001b[1;32mC:\\python 3.11\\Lib\\site-packages\\numpy\\linalg\\linalg.py:183\u001b[0m, in \u001b[0;36m_assert_stacked_2d\u001b[1;34m(*arrays)\u001b[0m\n\u001b[0;32m    181\u001b[0m \u001b[38;5;28;01mfor\u001b[39;00m a \u001b[38;5;129;01min\u001b[39;00m arrays:\n\u001b[0;32m    182\u001b[0m     \u001b[38;5;28;01mif\u001b[39;00m a\u001b[38;5;241m.\u001b[39mndim \u001b[38;5;241m<\u001b[39m \u001b[38;5;241m2\u001b[39m:\n\u001b[1;32m--> 183\u001b[0m         \u001b[38;5;28;01mraise\u001b[39;00m LinAlgError(\u001b[38;5;124m'\u001b[39m\u001b[38;5;132;01m%d\u001b[39;00m\u001b[38;5;124m-dimensional array given. Array must be \u001b[39m\u001b[38;5;124m'\u001b[39m\n\u001b[0;32m    184\u001b[0m                 \u001b[38;5;124m'\u001b[39m\u001b[38;5;124mat least two-dimensional\u001b[39m\u001b[38;5;124m'\u001b[39m \u001b[38;5;241m%\u001b[39m a\u001b[38;5;241m.\u001b[39mndim)\n",
      "\u001b[1;31mLinAlgError\u001b[0m: 1-dimensional array given. Array must be at least two-dimensional"
     ]
    }
   ],
   "source": [
    "# Array transpose and matrix operations\n",
    "arr.T # Transpose of the array\n",
    "np.dot(arr1, arr2) # Matrix multiplication of two arrays\n",
    "np.linalg.inv(arr) # Inverse of a square matrix"
   ]
  },
  {
   "cell_type": "code",
   "execution_count": 141,
   "id": "8e5f7684",
   "metadata": {},
   "outputs": [
    {
     "name": "stdout",
     "output_type": "stream",
     "text": [
      "[3 4 5]\n"
     ]
    }
   ],
   "source": [
    "#Array masking and Boolean Indexing\n",
    "print(arr[arr>2]) #"
   ]
  },
  {
   "cell_type": "markdown",
   "id": "2f3a79e8",
   "metadata": {},
   "source": [
    "# Matplotlib"
   ]
  },
  {
   "cell_type": "code",
   "execution_count": 1,
   "id": "daacfee8",
   "metadata": {},
   "outputs": [],
   "source": [
    "# importing Matplotlib\n",
    "import matplotlib.pyplot as plt"
   ]
  },
  {
   "cell_type": "code",
   "execution_count": 3,
   "id": "a23a952a",
   "metadata": {},
   "outputs": [
    {
     "data": {
      "image/png": "[encoded data removed]",
      "text/plain": [
       "<Figure size 640x480 with 1 Axes>"
      ]
     },
     "metadata": {},
     "output_type": "display_data"
    }
   ],
   "source": [
    "# Line Plot\n",
    "x = [1, 2, 3, 4, 5]\n",
    "y = [2, 4, 6, 8, 10]\n",
    "plt.plot(x, y)\n",
    "plt.xlabel('X-axis')\n",
    "plt.ylabel('Y-axis')\n",
    "plt.title('Line Plot')\n",
    "plt.show()"
   ]
  },
  {
   "cell_type": "code",
   "execution_count": 6,
   "id": "013a18eb",
   "metadata": {},
   "outputs": [
    {
     "data": {
      "image/png": "[encoded data removed]",
      "text/plain": [
       "<Figure size 640x480 with 1 Axes>"
      ]
     },
     "metadata": {},
     "output_type": "display_data"
    }
   ],
   "source": [
    "# Scatter Plot\n",
    "x = [1, 2, 3, 4, 5]\n",
    "y = [2, 4, 6, 8, 10]\n",
    "plt.scatter(x, y)\n",
    "plt.xlabel('X-axis')\n",
    "plt.ylabel('Y-axis')\n",
    "plt.title('Scatter Plot')\n",
    "plt.show()"
   ]
  },
  {
   "cell_type": "code",
   "execution_count": 8,
   "id": "d3826275",
   "metadata": {},
   "outputs": [
    {
     "data": {
      "image/png": "[encoded data removed]",
      "text/plain": [
       "<Figure size 640x480 with 1 Axes>"
      ]
     },
     "metadata": {},
     "output_type": "display_data"
    }
   ],
   "source": [
    "# Bar Plot\n",
    "x = ['A', 'B', 'C', 'D']\n",
    "y = [10, 15, 7, 12]\n",
    "plt.bar(x, y)\n",
    "plt.xlabel('Categories')\n",
    "plt.ylabel('values')\n",
    "plt.title('Bar Plot')\n",
    "plt.show()"
   ]
  },
  {
   "cell_type": "code",
   "execution_count": 9,
   "id": "c1471908",
   "metadata": {},
   "outputs": [
    {
     "data": {
      "image/png": "[encoded data removed]",
      "text/plain": [
       "<Figure size 640x480 with 1 Axes>"
      ]
     },
     "metadata": {},
     "output_type": "display_data"
    }
   ],
   "source": [
    "# Histogram\n",
    "data = [1, 2, 2, 3, 3, 3, 4, 4, 5]\n",
    "plt.hist(data, bins=5)\n",
    "plt.xlabel('Values')\n",
    "plt.ylabel('Frequency')\n",
    "plt.title('Histogram')\n",
    "plt.show()"
   ]
  },
  {
   "cell_type": "code",
   "execution_count": 11,
   "id": "f57bf11f",
   "metadata": {},
   "outputs": [
    {
     "data": {
      "image/png": "[encoded data removed]",
      "text/plain": [
       "<Figure size 640x480 with 1 Axes>"
      ]
     },
     "metadata": {},
     "output_type": "display_data"
    }
   ],
   "source": [
    "# Pie Chart\n",
    "labels = ['A', 'B', 'C', 'D']\n",
    "sizes = [30, 25, 20, 25]\n",
    "plt.pie(sizes, labels=labels, autopct='%1.1f%%')\n",
    "plt.title('Pie Chart')\n",
    "plt.show()"
   ]
  },
  {
   "cell_type": "code",
   "execution_count": 12,
   "id": "e4457f2d",
   "metadata": {},
   "outputs": [
    {
     "data": {
      "image/png": "[encoded data removed]",
      "text/plain": [
       "<Figure size 640x480 with 1 Axes>"
      ]
     },
     "metadata": {},
     "output_type": "display_data"
    }
   ],
   "source": [
    "# box plot\n",
    "data = [10, 12, 14, 15, 18, 20, 22]\n",
    "plt.boxplot(data)\n",
    "plt.ylabel('Values')\n",
    "plt.title('Box Plot')\n",
    "plt.show()"
   ]
  },
  {
   "cell_type": "code",
   "execution_count": 15,
   "id": "4611f5ae",
   "metadata": {},
   "outputs": [
    {
     "data": {
      "image/png": "[encoded data removed]",
      "text/plain": [
       "<Figure size 640x480 with 1 Axes>"
      ]
     },
     "metadata": {},
     "output_type": "display_data"
    }
   ],
   "source": [
    "x = ['A', 'B', 'C', 'D']\n",
    "y1 = [10, 15, 7, 12]\n",
    "y2 = [10, 12, 14, 15]\n",
    "plt.stackplot(x, y1, y2, labels=['Y1', 'Y2'])\n",
    "plt.xlabel('X-axis')\n",
    "plt.ylabel('Y-axis')\n",
    "plt.title('Area Plot')\n",
    "plt.legend()\n",
    "plt.show()"
   ]
  },
  {
   "cell_type": "code",
   "execution_count": 19,
   "id": "cd79d9de",
   "metadata": {},
   "outputs": [
    {
     "data": {
      "image/png": "[encoded data removed]",
      "text/plain": [
       "<Figure size 640x480 with 1 Axes>"
      ]
     },
     "metadata": {},
     "output_type": "display_data"
    }
   ],
   "source": [
    "#Line Plot with Multiple Lines\n",
    "x = [1, 2, 3, 4, 5]\n",
    "plt.plot(x, y1, label='Y1')\n",
    "plt.plot(x, y2, label='Y2')\n",
    "plt.xlabel('X-axis')\n",
    "plt.ylabel('Y-axis')\n",
    "plt.title('Line Plot with Multiple Lines')\n",
    "plt.legend()\n",
    "plt.show()\n",
    "\n",
    "y1 = [2, 4, 6, 8, 10]\n",
    "y2 = [1, 3, 5, 7, 9]"
   ]
  },
  {
   "cell_type": "code",
   "execution_count": null,
   "id": "5da82598",
   "metadata": {},
   "outputs": [],
   "source": []
  }
 ],
 "metadata": {
  "kernelspec": {
   "display_name": "Python 3 (ipykernel)",
   "language": "python",
   "name": "python3"
  },
  "language_info": {
   "codemirror_mode": {
    "name": "ipython",
    "version": 3
   },
   "file_extension": ".py",
   "mimetype": "text/x-python",
   "name": "python",
   "nbconvert_exporter": "python",
   "pygments_lexer": "ipython3",
   "version": "3.11.2"
  }
 },
 "nbformat": 4,
 "nbformat_minor": 5
}
